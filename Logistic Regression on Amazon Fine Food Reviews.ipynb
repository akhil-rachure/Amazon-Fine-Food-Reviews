{
 "cells": [
  {
   "cell_type": "markdown",
   "metadata": {
    "colab_type": "text",
    "id": "4UPJU7FIDYHb"
   },
   "source": [
    "# Amazon Fine Food Reviews Analysis\n",
    "\n",
    "\n",
    "Data Source: https://www.kaggle.com/snap/amazon-fine-food-reviews <br>\n",
    "\n",
    "EDA: https://nycdatascience.com/blog/student-works/amazon-fine-foods-visualization/\n",
    "\n",
    "\n",
    "The Amazon Fine Food Reviews dataset consists of reviews of fine foods from Amazon.<br>\n",
    "\n",
    "Number of reviews: 568,454<br>\n",
    "Number of users: 256,059<br>\n",
    "Number of products: 74,258<br>\n",
    "Timespan: Oct 1999 - Oct 2012<br>\n",
    "Number of Attributes/Columns in data: 10 \n",
    "\n",
    "Attribute Information:\n",
    "\n",
    "1. Id\n",
    "2. ProductId - unique identifier for the product\n",
    "3. UserId - unqiue identifier for the user\n",
    "4. ProfileName\n",
    "5. HelpfulnessNumerator - number of users who found the review helpful\n",
    "6. HelpfulnessDenominator - number of users who indicated whether they found the review helpful or not\n",
    "7. Score - rating between 1 and 5\n",
    "8. Time - timestamp for the review\n",
    "9. Summary - brief summary of the review\n",
    "10. Text - text of the review\n",
    "\n",
    "\n",
    "#### Objective:\n",
    "Given a review, determine whether the review is positive (rating of 4 or 5) or negative (rating of 1 or 2).\n",
    "\n",
    "<br>\n",
    "[Q] How to determine if a review is positive or negative?<br>\n",
    "<br> \n",
    "[Ans] We could use Score/Rating. A rating of 4 or 5 can be cosnidered as a positive review. A rating of 1 or 2 can be considered as negative one. A review of rating 3 is considered nuetral and such reviews are ignored from our analysis. This is an approximate and proxy way of determining the polarity (positivity/negativity) of a review.\n",
    "\n",
    "\n"
   ]
  },
  {
   "cell_type": "markdown",
   "metadata": {
    "colab_type": "text",
    "id": "Iac3VjZcDYHf"
   },
   "source": [
    "# [1]. Reading Data"
   ]
  },
  {
   "cell_type": "markdown",
   "metadata": {
    "colab_type": "text",
    "id": "wEsMRzNDDYHi"
   },
   "source": [
    "## [1.1] Loading the data\n",
    "\n",
    "The dataset is available in two forms\n",
    "1. .csv file\n",
    "2. SQLite Database\n",
    "\n",
    "In order to load the data, We have used the SQLITE dataset as it is easier to query the data and visualise the data efficiently.\n",
    "<br> \n",
    "\n",
    "Here as we only want to get the global sentiment of the recommendations (positive or negative), we will purposefully ignore all Scores equal to 3. If the score is above 3, then the recommendation wil be set to \"positive\". Otherwise, it will be set to \"negative\"."
   ]
  },
  {
   "cell_type": "code",
   "execution_count": 1,
   "metadata": {
    "colab": {},
    "colab_type": "code",
    "id": "ADl9geUvDYHl"
   },
   "outputs": [
    {
     "name": "stderr",
     "output_type": "stream",
     "text": [
      "C:\\Users\\Akhil\\Anaconda3\\lib\\site-packages\\gensim\\utils.py:1197: UserWarning: detected Windows; aliasing chunkize to chunkize_serial\n",
      "  warnings.warn(\"detected Windows; aliasing chunkize to chunkize_serial\")\n"
     ]
    }
   ],
   "source": [
    "%matplotlib inline\n",
    "import warnings\n",
    "warnings.filterwarnings(\"ignore\")\n",
    "\n",
    "\n",
    "import sqlite3\n",
    "import pandas as pd\n",
    "import numpy as np\n",
    "import nltk\n",
    "import string\n",
    "import matplotlib.pyplot as plt\n",
    "import seaborn as sns\n",
    "from sklearn.feature_extraction.text import TfidfTransformer\n",
    "from sklearn.feature_extraction.text import TfidfVectorizer\n",
    "\n",
    "from sklearn.feature_extraction.text import CountVectorizer\n",
    "from sklearn.metrics import confusion_matrix\n",
    "from sklearn import metrics\n",
    "from sklearn.metrics import roc_curve, auc\n",
    "from nltk.stem.porter import PorterStemmer\n",
    "\n",
    "import re\n",
    "# Tutorial about Python regular expressions: https://pymotw.com/2/re/\n",
    "import string\n",
    "from nltk.corpus import stopwords\n",
    "from nltk.stem import PorterStemmer\n",
    "from nltk.stem.wordnet import WordNetLemmatizer\n",
    "\n",
    "from gensim.models import Word2Vec\n",
    "from gensim.models import KeyedVectors\n",
    "import pickle\n",
    "\n",
    "from tqdm import tqdm\n",
    "import os"
   ]
  },
  {
   "cell_type": "code",
   "execution_count": 2,
   "metadata": {
    "colab": {},
    "colab_type": "code",
    "id": "9pO69buUDYHz",
    "outputId": "00371235-7840-4a31-be63-4945d6cbbb2e"
   },
   "outputs": [
    {
     "name": "stdout",
     "output_type": "stream",
     "text": [
      "Number of data points in our data (525814, 10)\n"
     ]
    },
    {
     "data": {
      "text/html": [
       "<div>\n",
       "<style scoped>\n",
       "    .dataframe tbody tr th:only-of-type {\n",
       "        vertical-align: middle;\n",
       "    }\n",
       "\n",
       "    .dataframe tbody tr th {\n",
       "        vertical-align: top;\n",
       "    }\n",
       "\n",
       "    .dataframe thead th {\n",
       "        text-align: right;\n",
       "    }\n",
       "</style>\n",
       "<table border=\"1\" class=\"dataframe\">\n",
       "  <thead>\n",
       "    <tr style=\"text-align: right;\">\n",
       "      <th></th>\n",
       "      <th>Id</th>\n",
       "      <th>ProductId</th>\n",
       "      <th>UserId</th>\n",
       "      <th>ProfileName</th>\n",
       "      <th>HelpfulnessNumerator</th>\n",
       "      <th>HelpfulnessDenominator</th>\n",
       "      <th>Score</th>\n",
       "      <th>Time</th>\n",
       "      <th>Summary</th>\n",
       "      <th>Text</th>\n",
       "    </tr>\n",
       "  </thead>\n",
       "  <tbody>\n",
       "    <tr>\n",
       "      <th>0</th>\n",
       "      <td>1</td>\n",
       "      <td>B001E4KFG0</td>\n",
       "      <td>A3SGXH7AUHU8GW</td>\n",
       "      <td>delmartian</td>\n",
       "      <td>1</td>\n",
       "      <td>1</td>\n",
       "      <td>1</td>\n",
       "      <td>1303862400</td>\n",
       "      <td>Good Quality Dog Food</td>\n",
       "      <td>I have bought several of the Vitality canned d...</td>\n",
       "    </tr>\n",
       "    <tr>\n",
       "      <th>1</th>\n",
       "      <td>2</td>\n",
       "      <td>B00813GRG4</td>\n",
       "      <td>A1D87F6ZCVE5NK</td>\n",
       "      <td>dll pa</td>\n",
       "      <td>0</td>\n",
       "      <td>0</td>\n",
       "      <td>0</td>\n",
       "      <td>1346976000</td>\n",
       "      <td>Not as Advertised</td>\n",
       "      <td>Product arrived labeled as Jumbo Salted Peanut...</td>\n",
       "    </tr>\n",
       "    <tr>\n",
       "      <th>2</th>\n",
       "      <td>3</td>\n",
       "      <td>B000LQOCH0</td>\n",
       "      <td>ABXLMWJIXXAIN</td>\n",
       "      <td>Natalia Corres \"Natalia Corres\"</td>\n",
       "      <td>1</td>\n",
       "      <td>1</td>\n",
       "      <td>1</td>\n",
       "      <td>1219017600</td>\n",
       "      <td>\"Delight\" says it all</td>\n",
       "      <td>This is a confection that has been around a fe...</td>\n",
       "    </tr>\n",
       "  </tbody>\n",
       "</table>\n",
       "</div>"
      ],
      "text/plain": [
       "   Id   ProductId          UserId                      ProfileName  \\\n",
       "0   1  B001E4KFG0  A3SGXH7AUHU8GW                       delmartian   \n",
       "1   2  B00813GRG4  A1D87F6ZCVE5NK                           dll pa   \n",
       "2   3  B000LQOCH0   ABXLMWJIXXAIN  Natalia Corres \"Natalia Corres\"   \n",
       "\n",
       "   HelpfulnessNumerator  HelpfulnessDenominator  Score        Time  \\\n",
       "0                     1                       1      1  1303862400   \n",
       "1                     0                       0      0  1346976000   \n",
       "2                     1                       1      1  1219017600   \n",
       "\n",
       "                 Summary                                               Text  \n",
       "0  Good Quality Dog Food  I have bought several of the Vitality canned d...  \n",
       "1      Not as Advertised  Product arrived labeled as Jumbo Salted Peanut...  \n",
       "2  \"Delight\" says it all  This is a confection that has been around a fe...  "
      ]
     },
     "execution_count": 2,
     "metadata": {},
     "output_type": "execute_result"
    }
   ],
   "source": [
    "# using SQLite Table to read data.\n",
    "con = sqlite3.connect('database.sqlite') \n",
    "\n",
    "# filtering only positive and negative reviews i.e. \n",
    "# not taking into consideration those reviews with Score=3\n",
    "# SELECT * FROM Reviews WHERE Score != 3 LIMIT 500000, will give top 500000 data points\n",
    "# you can change the number to any other number based on your computing power\n",
    "\n",
    "# filtered_data = pd.read_sql_query(\"\"\" SELECT * FROM Reviews WHERE Score != 3 LIMIT 500000\"\"\", con) \n",
    "# for tsne assignment you can take 5k data points\n",
    "\n",
    "filtered_data = pd.read_sql_query(\"\"\" SELECT * FROM Reviews WHERE Score != 3 \"\"\", con) \n",
    "\n",
    "# Give reviews with Score>3 a positive rating(1), and reviews with a score<3 a negative rating(0).\n",
    "def partition(x):\n",
    "    if x < 3:\n",
    "        return 0\n",
    "    return 1\n",
    "\n",
    "#changing reviews with score less than 3 to be positive and vice-versa\n",
    "actualScore = filtered_data['Score']\n",
    "positiveNegative = actualScore.map(partition) \n",
    "filtered_data['Score'] = positiveNegative\n",
    "print(\"Number of data points in our data\", filtered_data.shape)\n",
    "filtered_data.head(3)"
   ]
  },
  {
   "cell_type": "code",
   "execution_count": 3,
   "metadata": {
    "colab": {},
    "colab_type": "code",
    "id": "bDrGXaolDYIH"
   },
   "outputs": [],
   "source": [
    "display = pd.read_sql_query(\"\"\"\n",
    "SELECT UserId, ProductId, ProfileName, Time, Score, Text, COUNT(*)\n",
    "FROM Reviews\n",
    "GROUP BY UserId\n",
    "HAVING COUNT(*)>1\n",
    "\"\"\", con)"
   ]
  },
  {
   "cell_type": "code",
   "execution_count": 4,
   "metadata": {
    "colab": {},
    "colab_type": "code",
    "id": "Jj-M3g0FDYIj",
    "outputId": "2c700ad5-02ad-4f43-a532-fb847609043e",
    "scrolled": true
   },
   "outputs": [
    {
     "name": "stdout",
     "output_type": "stream",
     "text": [
      "(80668, 7)\n"
     ]
    },
    {
     "data": {
      "text/html": [
       "<div>\n",
       "<style scoped>\n",
       "    .dataframe tbody tr th:only-of-type {\n",
       "        vertical-align: middle;\n",
       "    }\n",
       "\n",
       "    .dataframe tbody tr th {\n",
       "        vertical-align: top;\n",
       "    }\n",
       "\n",
       "    .dataframe thead th {\n",
       "        text-align: right;\n",
       "    }\n",
       "</style>\n",
       "<table border=\"1\" class=\"dataframe\">\n",
       "  <thead>\n",
       "    <tr style=\"text-align: right;\">\n",
       "      <th></th>\n",
       "      <th>UserId</th>\n",
       "      <th>ProductId</th>\n",
       "      <th>ProfileName</th>\n",
       "      <th>Time</th>\n",
       "      <th>Score</th>\n",
       "      <th>Text</th>\n",
       "      <th>COUNT(*)</th>\n",
       "    </tr>\n",
       "  </thead>\n",
       "  <tbody>\n",
       "    <tr>\n",
       "      <th>0</th>\n",
       "      <td>#oc-R115TNMSPFT9I7</td>\n",
       "      <td>B005ZBZLT4</td>\n",
       "      <td>Breyton</td>\n",
       "      <td>1331510400</td>\n",
       "      <td>2</td>\n",
       "      <td>Overall its just OK when considering the price...</td>\n",
       "      <td>2</td>\n",
       "    </tr>\n",
       "    <tr>\n",
       "      <th>1</th>\n",
       "      <td>#oc-R11D9D7SHXIJB9</td>\n",
       "      <td>B005HG9ESG</td>\n",
       "      <td>Louis E. Emory \"hoppy\"</td>\n",
       "      <td>1342396800</td>\n",
       "      <td>5</td>\n",
       "      <td>My wife has recurring extreme muscle spasms, u...</td>\n",
       "      <td>3</td>\n",
       "    </tr>\n",
       "    <tr>\n",
       "      <th>2</th>\n",
       "      <td>#oc-R11DNU2NBKQ23Z</td>\n",
       "      <td>B005ZBZLT4</td>\n",
       "      <td>Kim Cieszykowski</td>\n",
       "      <td>1348531200</td>\n",
       "      <td>1</td>\n",
       "      <td>This coffee is horrible and unfortunately not ...</td>\n",
       "      <td>2</td>\n",
       "    </tr>\n",
       "    <tr>\n",
       "      <th>3</th>\n",
       "      <td>#oc-R11O5J5ZVQE25C</td>\n",
       "      <td>B005HG9ESG</td>\n",
       "      <td>Penguin Chick</td>\n",
       "      <td>1346889600</td>\n",
       "      <td>5</td>\n",
       "      <td>This will be the bottle that you grab from the...</td>\n",
       "      <td>3</td>\n",
       "    </tr>\n",
       "    <tr>\n",
       "      <th>4</th>\n",
       "      <td>#oc-R12KPBODL2B5ZD</td>\n",
       "      <td>B007OSBEV0</td>\n",
       "      <td>Christopher P. Presta</td>\n",
       "      <td>1348617600</td>\n",
       "      <td>1</td>\n",
       "      <td>I didnt like this coffee. Instead of telling y...</td>\n",
       "      <td>2</td>\n",
       "    </tr>\n",
       "  </tbody>\n",
       "</table>\n",
       "</div>"
      ],
      "text/plain": [
       "               UserId   ProductId             ProfileName        Time  Score  \\\n",
       "0  #oc-R115TNMSPFT9I7  B005ZBZLT4                 Breyton  1331510400      2   \n",
       "1  #oc-R11D9D7SHXIJB9  B005HG9ESG  Louis E. Emory \"hoppy\"  1342396800      5   \n",
       "2  #oc-R11DNU2NBKQ23Z  B005ZBZLT4        Kim Cieszykowski  1348531200      1   \n",
       "3  #oc-R11O5J5ZVQE25C  B005HG9ESG           Penguin Chick  1346889600      5   \n",
       "4  #oc-R12KPBODL2B5ZD  B007OSBEV0   Christopher P. Presta  1348617600      1   \n",
       "\n",
       "                                                Text  COUNT(*)  \n",
       "0  Overall its just OK when considering the price...         2  \n",
       "1  My wife has recurring extreme muscle spasms, u...         3  \n",
       "2  This coffee is horrible and unfortunately not ...         2  \n",
       "3  This will be the bottle that you grab from the...         3  \n",
       "4  I didnt like this coffee. Instead of telling y...         2  "
      ]
     },
     "execution_count": 4,
     "metadata": {},
     "output_type": "execute_result"
    }
   ],
   "source": [
    "print(display.shape)\n",
    "display.head()"
   ]
  },
  {
   "cell_type": "code",
   "execution_count": 5,
   "metadata": {
    "colab": {},
    "colab_type": "code",
    "id": "eAG-AQpWDYIx",
    "outputId": "889e7973-47ab-423b-fd10-ee5058498ad0"
   },
   "outputs": [
    {
     "data": {
      "text/html": [
       "<div>\n",
       "<style scoped>\n",
       "    .dataframe tbody tr th:only-of-type {\n",
       "        vertical-align: middle;\n",
       "    }\n",
       "\n",
       "    .dataframe tbody tr th {\n",
       "        vertical-align: top;\n",
       "    }\n",
       "\n",
       "    .dataframe thead th {\n",
       "        text-align: right;\n",
       "    }\n",
       "</style>\n",
       "<table border=\"1\" class=\"dataframe\">\n",
       "  <thead>\n",
       "    <tr style=\"text-align: right;\">\n",
       "      <th></th>\n",
       "      <th>UserId</th>\n",
       "      <th>ProductId</th>\n",
       "      <th>ProfileName</th>\n",
       "      <th>Time</th>\n",
       "      <th>Score</th>\n",
       "      <th>Text</th>\n",
       "      <th>COUNT(*)</th>\n",
       "    </tr>\n",
       "  </thead>\n",
       "  <tbody>\n",
       "    <tr>\n",
       "      <th>80638</th>\n",
       "      <td>AZY10LLTJ71NX</td>\n",
       "      <td>B001ATMQK2</td>\n",
       "      <td>undertheshrine \"undertheshrine\"</td>\n",
       "      <td>1296691200</td>\n",
       "      <td>5</td>\n",
       "      <td>I bought this 6 pack because for the price tha...</td>\n",
       "      <td>5</td>\n",
       "    </tr>\n",
       "  </tbody>\n",
       "</table>\n",
       "</div>"
      ],
      "text/plain": [
       "              UserId   ProductId                      ProfileName        Time  \\\n",
       "80638  AZY10LLTJ71NX  B001ATMQK2  undertheshrine \"undertheshrine\"  1296691200   \n",
       "\n",
       "       Score                                               Text  COUNT(*)  \n",
       "80638      5  I bought this 6 pack because for the price tha...         5  "
      ]
     },
     "execution_count": 5,
     "metadata": {},
     "output_type": "execute_result"
    }
   ],
   "source": [
    "display[display['UserId']=='AZY10LLTJ71NX']"
   ]
  },
  {
   "cell_type": "code",
   "execution_count": 6,
   "metadata": {
    "colab": {},
    "colab_type": "code",
    "id": "3qBpPZKaDYI7",
    "outputId": "375dd0be-186a-4b00-8594-06fb20ded08a"
   },
   "outputs": [
    {
     "data": {
      "text/plain": [
       "393063"
      ]
     },
     "execution_count": 6,
     "metadata": {},
     "output_type": "execute_result"
    }
   ],
   "source": [
    "display['COUNT(*)'].sum()"
   ]
  },
  {
   "cell_type": "markdown",
   "metadata": {
    "colab_type": "text",
    "id": "G1rTdPsqDYJI"
   },
   "source": [
    "#  [2] Exploratory Data Analysis"
   ]
  },
  {
   "cell_type": "markdown",
   "metadata": {
    "colab_type": "text",
    "id": "Wh5RH-NsDYJJ"
   },
   "source": [
    "## [2.1] Data Cleaning: Deduplication\n",
    "\n",
    "It is observed (as shown in the table below) that the reviews data had many duplicate entries. Hence it was necessary to remove duplicates in order to get unbiased results for the analysis of the data.  Following is an example:"
   ]
  },
  {
   "cell_type": "code",
   "execution_count": 7,
   "metadata": {
    "colab": {},
    "colab_type": "code",
    "id": "EUF69tvsDYJO",
    "outputId": "d08434a0-b58a-4d4a-db71-729bbb1539e5",
    "scrolled": false
   },
   "outputs": [
    {
     "data": {
      "text/html": [
       "<div>\n",
       "<style scoped>\n",
       "    .dataframe tbody tr th:only-of-type {\n",
       "        vertical-align: middle;\n",
       "    }\n",
       "\n",
       "    .dataframe tbody tr th {\n",
       "        vertical-align: top;\n",
       "    }\n",
       "\n",
       "    .dataframe thead th {\n",
       "        text-align: right;\n",
       "    }\n",
       "</style>\n",
       "<table border=\"1\" class=\"dataframe\">\n",
       "  <thead>\n",
       "    <tr style=\"text-align: right;\">\n",
       "      <th></th>\n",
       "      <th>Id</th>\n",
       "      <th>ProductId</th>\n",
       "      <th>UserId</th>\n",
       "      <th>ProfileName</th>\n",
       "      <th>HelpfulnessNumerator</th>\n",
       "      <th>HelpfulnessDenominator</th>\n",
       "      <th>Score</th>\n",
       "      <th>Time</th>\n",
       "      <th>Summary</th>\n",
       "      <th>Text</th>\n",
       "    </tr>\n",
       "  </thead>\n",
       "  <tbody>\n",
       "    <tr>\n",
       "      <th>0</th>\n",
       "      <td>78445</td>\n",
       "      <td>B000HDL1RQ</td>\n",
       "      <td>AR5J8UI46CURR</td>\n",
       "      <td>Geetha Krishnan</td>\n",
       "      <td>2</td>\n",
       "      <td>2</td>\n",
       "      <td>5</td>\n",
       "      <td>1199577600</td>\n",
       "      <td>LOACKER QUADRATINI VANILLA WAFERS</td>\n",
       "      <td>DELICIOUS WAFERS. I FIND THAT EUROPEAN WAFERS ...</td>\n",
       "    </tr>\n",
       "    <tr>\n",
       "      <th>1</th>\n",
       "      <td>138317</td>\n",
       "      <td>B000HDOPYC</td>\n",
       "      <td>AR5J8UI46CURR</td>\n",
       "      <td>Geetha Krishnan</td>\n",
       "      <td>2</td>\n",
       "      <td>2</td>\n",
       "      <td>5</td>\n",
       "      <td>1199577600</td>\n",
       "      <td>LOACKER QUADRATINI VANILLA WAFERS</td>\n",
       "      <td>DELICIOUS WAFERS. I FIND THAT EUROPEAN WAFERS ...</td>\n",
       "    </tr>\n",
       "    <tr>\n",
       "      <th>2</th>\n",
       "      <td>138277</td>\n",
       "      <td>B000HDOPYM</td>\n",
       "      <td>AR5J8UI46CURR</td>\n",
       "      <td>Geetha Krishnan</td>\n",
       "      <td>2</td>\n",
       "      <td>2</td>\n",
       "      <td>5</td>\n",
       "      <td>1199577600</td>\n",
       "      <td>LOACKER QUADRATINI VANILLA WAFERS</td>\n",
       "      <td>DELICIOUS WAFERS. I FIND THAT EUROPEAN WAFERS ...</td>\n",
       "    </tr>\n",
       "    <tr>\n",
       "      <th>3</th>\n",
       "      <td>73791</td>\n",
       "      <td>B000HDOPZG</td>\n",
       "      <td>AR5J8UI46CURR</td>\n",
       "      <td>Geetha Krishnan</td>\n",
       "      <td>2</td>\n",
       "      <td>2</td>\n",
       "      <td>5</td>\n",
       "      <td>1199577600</td>\n",
       "      <td>LOACKER QUADRATINI VANILLA WAFERS</td>\n",
       "      <td>DELICIOUS WAFERS. I FIND THAT EUROPEAN WAFERS ...</td>\n",
       "    </tr>\n",
       "    <tr>\n",
       "      <th>4</th>\n",
       "      <td>155049</td>\n",
       "      <td>B000PAQ75C</td>\n",
       "      <td>AR5J8UI46CURR</td>\n",
       "      <td>Geetha Krishnan</td>\n",
       "      <td>2</td>\n",
       "      <td>2</td>\n",
       "      <td>5</td>\n",
       "      <td>1199577600</td>\n",
       "      <td>LOACKER QUADRATINI VANILLA WAFERS</td>\n",
       "      <td>DELICIOUS WAFERS. I FIND THAT EUROPEAN WAFERS ...</td>\n",
       "    </tr>\n",
       "  </tbody>\n",
       "</table>\n",
       "</div>"
      ],
      "text/plain": [
       "       Id   ProductId         UserId      ProfileName  HelpfulnessNumerator  \\\n",
       "0   78445  B000HDL1RQ  AR5J8UI46CURR  Geetha Krishnan                     2   \n",
       "1  138317  B000HDOPYC  AR5J8UI46CURR  Geetha Krishnan                     2   \n",
       "2  138277  B000HDOPYM  AR5J8UI46CURR  Geetha Krishnan                     2   \n",
       "3   73791  B000HDOPZG  AR5J8UI46CURR  Geetha Krishnan                     2   \n",
       "4  155049  B000PAQ75C  AR5J8UI46CURR  Geetha Krishnan                     2   \n",
       "\n",
       "   HelpfulnessDenominator  Score        Time  \\\n",
       "0                       2      5  1199577600   \n",
       "1                       2      5  1199577600   \n",
       "2                       2      5  1199577600   \n",
       "3                       2      5  1199577600   \n",
       "4                       2      5  1199577600   \n",
       "\n",
       "                             Summary  \\\n",
       "0  LOACKER QUADRATINI VANILLA WAFERS   \n",
       "1  LOACKER QUADRATINI VANILLA WAFERS   \n",
       "2  LOACKER QUADRATINI VANILLA WAFERS   \n",
       "3  LOACKER QUADRATINI VANILLA WAFERS   \n",
       "4  LOACKER QUADRATINI VANILLA WAFERS   \n",
       "\n",
       "                                                Text  \n",
       "0  DELICIOUS WAFERS. I FIND THAT EUROPEAN WAFERS ...  \n",
       "1  DELICIOUS WAFERS. I FIND THAT EUROPEAN WAFERS ...  \n",
       "2  DELICIOUS WAFERS. I FIND THAT EUROPEAN WAFERS ...  \n",
       "3  DELICIOUS WAFERS. I FIND THAT EUROPEAN WAFERS ...  \n",
       "4  DELICIOUS WAFERS. I FIND THAT EUROPEAN WAFERS ...  "
      ]
     },
     "execution_count": 7,
     "metadata": {},
     "output_type": "execute_result"
    }
   ],
   "source": [
    "display= pd.read_sql_query(\"\"\"\n",
    "SELECT *\n",
    "FROM Reviews\n",
    "WHERE Score != 3 AND UserId=\"AR5J8UI46CURR\"\n",
    "ORDER BY ProductID\n",
    "\"\"\", con)\n",
    "display.head()"
   ]
  },
  {
   "cell_type": "markdown",
   "metadata": {
    "colab_type": "text",
    "id": "cKrGPQEfDYJW"
   },
   "source": [
    "As it can be seen above that same user has multiple reviews with same values for HelpfulnessNumerator, HelpfulnessDenominator, Score, Time, Summary and Text and on doing analysis it was found that <br>\n",
    "<br> \n",
    "ProductId=B000HDOPZG was Loacker Quadratini Vanilla Wafer Cookies, 8.82-Ounce Packages (Pack of 8)<br>\n",
    "<br> \n",
    "ProductId=B000HDL1RQ was Loacker Quadratini Lemon Wafer Cookies, 8.82-Ounce Packages (Pack of 8) and so on<br>\n",
    "\n",
    "It was inferred after analysis that reviews with same parameters other than ProductId belonged to the same product just having different flavour or quantity. Hence in order to reduce redundancy it was decided to eliminate the rows having same parameters.<br>\n",
    "\n",
    "The method used for the same was that we first sort the data according to ProductId and then just keep the first similar product review and delelte the others. for eg. in the above just the review for ProductId=B000HDL1RQ remains. This method ensures that there is only one representative for each product and deduplication without sorting would lead to possibility of different representatives still existing for the same product."
   ]
  },
  {
   "cell_type": "code",
   "execution_count": 8,
   "metadata": {
    "colab": {},
    "colab_type": "code",
    "id": "eQWrz1nFDYJX"
   },
   "outputs": [],
   "source": [
    "#Sorting data according to ProductId in ascending order\n",
    "sorted_data=filtered_data.sort_values('ProductId', axis=0, ascending=True, inplace=False, kind='quicksort', na_position='last')"
   ]
  },
  {
   "cell_type": "code",
   "execution_count": 9,
   "metadata": {
    "colab": {},
    "colab_type": "code",
    "id": "4CS7fUdLDYJd",
    "outputId": "6fa1310c-c733-4bb5-9b0a-cbb72b05e086"
   },
   "outputs": [
    {
     "data": {
      "text/plain": [
       "(364173, 10)"
      ]
     },
     "execution_count": 9,
     "metadata": {},
     "output_type": "execute_result"
    }
   ],
   "source": [
    "#Deduplication of entries\n",
    "final=sorted_data.drop_duplicates(subset={\"UserId\",\"ProfileName\",\"Time\",\"Text\"}, keep='first', inplace=False)\n",
    "final.shape"
   ]
  },
  {
   "cell_type": "code",
   "execution_count": 10,
   "metadata": {
    "colab": {},
    "colab_type": "code",
    "id": "Hcc_-CJMDYJk",
    "outputId": "8490fe52-8d00-4196-d0f4-5718b54f10e8"
   },
   "outputs": [
    {
     "data": {
      "text/plain": [
       "69.25890143662969"
      ]
     },
     "execution_count": 10,
     "metadata": {},
     "output_type": "execute_result"
    }
   ],
   "source": [
    "#Checking to see how much % of data still remains\n",
    "(final['Id'].size*1.0)/(filtered_data['Id'].size*1.0)*100"
   ]
  },
  {
   "cell_type": "markdown",
   "metadata": {
    "colab_type": "text",
    "id": "engwR6VNDYJq"
   },
   "source": [
    "<b>Observation:-</b> It was also seen that in two rows given below the value of HelpfulnessNumerator is greater than HelpfulnessDenominator which is not practically possible hence these two rows too are removed from calcualtions"
   ]
  },
  {
   "cell_type": "code",
   "execution_count": 11,
   "metadata": {
    "colab": {},
    "colab_type": "code",
    "id": "hjN7-OL_DYJt",
    "outputId": "5e4c5f88-4f27-42ca-e378-04cbc8e8d8d9"
   },
   "outputs": [
    {
     "data": {
      "text/html": [
       "<div>\n",
       "<style scoped>\n",
       "    .dataframe tbody tr th:only-of-type {\n",
       "        vertical-align: middle;\n",
       "    }\n",
       "\n",
       "    .dataframe tbody tr th {\n",
       "        vertical-align: top;\n",
       "    }\n",
       "\n",
       "    .dataframe thead th {\n",
       "        text-align: right;\n",
       "    }\n",
       "</style>\n",
       "<table border=\"1\" class=\"dataframe\">\n",
       "  <thead>\n",
       "    <tr style=\"text-align: right;\">\n",
       "      <th></th>\n",
       "      <th>Id</th>\n",
       "      <th>ProductId</th>\n",
       "      <th>UserId</th>\n",
       "      <th>ProfileName</th>\n",
       "      <th>HelpfulnessNumerator</th>\n",
       "      <th>HelpfulnessDenominator</th>\n",
       "      <th>Score</th>\n",
       "      <th>Time</th>\n",
       "      <th>Summary</th>\n",
       "      <th>Text</th>\n",
       "    </tr>\n",
       "  </thead>\n",
       "  <tbody>\n",
       "    <tr>\n",
       "      <th>0</th>\n",
       "      <td>64422</td>\n",
       "      <td>B000MIDROQ</td>\n",
       "      <td>A161DK06JJMCYF</td>\n",
       "      <td>J. E. Stephens \"Jeanne\"</td>\n",
       "      <td>3</td>\n",
       "      <td>1</td>\n",
       "      <td>5</td>\n",
       "      <td>1224892800</td>\n",
       "      <td>Bought This for My Son at College</td>\n",
       "      <td>My son loves spaghetti so I didn't hesitate or...</td>\n",
       "    </tr>\n",
       "    <tr>\n",
       "      <th>1</th>\n",
       "      <td>44737</td>\n",
       "      <td>B001EQ55RW</td>\n",
       "      <td>A2V0I904FH7ABY</td>\n",
       "      <td>Ram</td>\n",
       "      <td>3</td>\n",
       "      <td>2</td>\n",
       "      <td>4</td>\n",
       "      <td>1212883200</td>\n",
       "      <td>Pure cocoa taste with crunchy almonds inside</td>\n",
       "      <td>It was almost a 'love at first bite' - the per...</td>\n",
       "    </tr>\n",
       "  </tbody>\n",
       "</table>\n",
       "</div>"
      ],
      "text/plain": [
       "      Id   ProductId          UserId              ProfileName  \\\n",
       "0  64422  B000MIDROQ  A161DK06JJMCYF  J. E. Stephens \"Jeanne\"   \n",
       "1  44737  B001EQ55RW  A2V0I904FH7ABY                      Ram   \n",
       "\n",
       "   HelpfulnessNumerator  HelpfulnessDenominator  Score        Time  \\\n",
       "0                     3                       1      5  1224892800   \n",
       "1                     3                       2      4  1212883200   \n",
       "\n",
       "                                        Summary  \\\n",
       "0             Bought This for My Son at College   \n",
       "1  Pure cocoa taste with crunchy almonds inside   \n",
       "\n",
       "                                                Text  \n",
       "0  My son loves spaghetti so I didn't hesitate or...  \n",
       "1  It was almost a 'love at first bite' - the per...  "
      ]
     },
     "execution_count": 11,
     "metadata": {},
     "output_type": "execute_result"
    }
   ],
   "source": [
    "display= pd.read_sql_query(\"\"\"\n",
    "SELECT *\n",
    "FROM Reviews\n",
    "WHERE Score != 3 AND Id=44737 OR Id=64422\n",
    "ORDER BY ProductID\n",
    "\"\"\", con)\n",
    "\n",
    "display.head()"
   ]
  },
  {
   "cell_type": "code",
   "execution_count": 12,
   "metadata": {
    "colab": {},
    "colab_type": "code",
    "id": "Ezix6kJ_DYJ3"
   },
   "outputs": [],
   "source": [
    "final=final[final.HelpfulnessNumerator<=final.HelpfulnessDenominator]"
   ]
  },
  {
   "cell_type": "code",
   "execution_count": 13,
   "metadata": {
    "colab": {},
    "colab_type": "code",
    "id": "yWsVhvArDYJ9",
    "outputId": "0fd8ea32-ce27-4232-a7f1-880eb06ca956"
   },
   "outputs": [
    {
     "name": "stdout",
     "output_type": "stream",
     "text": [
      "(364171, 10)\n"
     ]
    },
    {
     "data": {
      "text/plain": [
       "1    307061\n",
       "0     57110\n",
       "Name: Score, dtype: int64"
      ]
     },
     "execution_count": 13,
     "metadata": {},
     "output_type": "execute_result"
    }
   ],
   "source": [
    "#Before starting the next phase of preprocessing lets see the number of entries left\n",
    "print(final.shape)\n",
    "\n",
    "#How many positive and negative reviews are present in our dataset?\n",
    "final['Score'].value_counts()"
   ]
  },
  {
   "cell_type": "markdown",
   "metadata": {
    "colab_type": "text",
    "id": "AoLxCQ-VDYKI"
   },
   "source": [
    "#  [3] Preprocessing"
   ]
  },
  {
   "cell_type": "markdown",
   "metadata": {
    "colab_type": "text",
    "id": "P7Zq_ToqDYKJ"
   },
   "source": [
    "## [3.1].  Preprocessing Review Text\n",
    "\n",
    "Now that we have finished deduplication our data requires some preprocessing before we go on further with analysis and making the prediction model.\n",
    "\n",
    "Hence in the Preprocessing phase we do the following in the order below:-\n",
    "\n",
    "1. Begin by removing the html tags\n",
    "2. Remove any punctuations or limited set of special characters like , or . or # etc.\n",
    "3. Check if the word is made up of english letters and is not alpha-numeric\n",
    "4. Check to see if the length of the word is greater than 2 (as it was researched that there is no adjective in 2-letters)\n",
    "5. Convert the word to lowercase\n",
    "6. Remove Stopwords\n",
    "7. Finally Snowball Stemming the word (it was obsereved to be better than Porter Stemming)<br>\n",
    "\n",
    "After which we collect the words used to describe positive and negative reviews"
   ]
  },
  {
   "cell_type": "code",
   "execution_count": 14,
   "metadata": {
    "colab": {},
    "colab_type": "code",
    "id": "3jw5g5yEDYKL",
    "outputId": "06d7bd61-438f-4319-a9f7-ecb2312f3dec"
   },
   "outputs": [
    {
     "name": "stdout",
     "output_type": "stream",
     "text": [
      "this witty little book makes my son laugh at loud. i recite it in the car as we're driving along and he always can sing the refrain. he's learned about whales, India, drooping roses:  i love all the new words this book  introduces and the silliness of it all.  this is a classic book i am  willing to bet my son will STILL be able to recite from memory when he is  in college\n",
      "==================================================\n",
      "I was really looking forward to these pods based on the reviews.  Starbucks is good, but I prefer bolder taste.... imagine my surprise when I ordered 2 boxes - both were expired! One expired back in 2005 for gosh sakes.  I admit that Amazon agreed to credit me for cost plus part of shipping, but geez, 2 years expired!!!  I'm hoping to find local San Diego area shoppe that carries pods so that I can try something different than starbucks.\n",
      "==================================================\n",
      "Great ingredients although, chicken should have been 1st rather than chicken broth, the only thing I do not think belongs in it is Canola oil. Canola or rapeseed is not someting a dog would ever find in nature and if it did find rapeseed in nature and eat it, it would poison them. Today's Food industries have convinced the masses that Canola oil is a safe and even better oil than olive or virgin coconut, facts though say otherwise. Until the late 70's it was poisonous until they figured out a way to fix that. I still like it but it could be better.\n",
      "==================================================\n",
      "Can't do sugar.  Have tried scores of SF Syrups.  NONE of them can touch the excellence of this product.<br /><br />Thick, delicious.  Perfect.  3 ingredients: Water, Maltitol, Natural Maple Flavor.  PERIOD.  No chemicals.  No garbage.<br /><br />Have numerous friends & family members hooked on this stuff.  My husband & son, who do NOT like \"sugar free\" prefer this over major label regular syrup.<br /><br />I use this as my SWEETENER in baking: cheesecakes, white brownies, muffins, pumpkin pies, etc... Unbelievably delicious...<br /><br />Can you tell I like it? :)\n",
      "==================================================\n"
     ]
    }
   ],
   "source": [
    "# printing some random reviews\n",
    "sent_0 = final['Text'].values[0]\n",
    "print(sent_0)\n",
    "print(\"=\"*50)\n",
    "\n",
    "sent_1000 = final['Text'].values[1000]\n",
    "print(sent_1000)\n",
    "print(\"=\"*50)\n",
    "\n",
    "sent_1500 = final['Text'].values[1500]\n",
    "print(sent_1500)\n",
    "print(\"=\"*50)\n",
    "\n",
    "sent_4900 = final['Text'].values[4900]\n",
    "print(sent_4900)\n",
    "print(\"=\"*50)"
   ]
  },
  {
   "cell_type": "code",
   "execution_count": 15,
   "metadata": {
    "colab": {},
    "colab_type": "code",
    "id": "WloiOvL3DYKT",
    "outputId": "0a0a8f4b-1999-467d-ea4e-06c5280d3c17"
   },
   "outputs": [
    {
     "name": "stdout",
     "output_type": "stream",
     "text": [
      "this witty little book makes my son laugh at loud. i recite it in the car as we're driving along and he always can sing the refrain. he's learned about whales, India, drooping roses:  i love all the new words this book  introduces and the silliness of it all.  this is a classic book i am  willing to bet my son will STILL be able to recite from memory when he is  in college\n"
     ]
    }
   ],
   "source": [
    "# remove urls from text python: https://stackoverflow.com/a/40823105/4084039\n",
    "sent_0 = re.sub(r\"http\\S+\", \"\", sent_0)\n",
    "sent_1000 = re.sub(r\"http\\S+\", \"\", sent_1000)\n",
    "sent_150 = re.sub(r\"http\\S+\", \"\", sent_1500)\n",
    "sent_4900 = re.sub(r\"http\\S+\", \"\", sent_4900)\n",
    "\n",
    "print(sent_0)"
   ]
  },
  {
   "cell_type": "code",
   "execution_count": 16,
   "metadata": {
    "colab": {},
    "colab_type": "code",
    "id": "SzCCi9tPDYKf",
    "outputId": "d01ec7e4-bcab-4639-e6d9-7ddbe80aaed1"
   },
   "outputs": [
    {
     "name": "stdout",
     "output_type": "stream",
     "text": [
      "this witty little book makes my son laugh at loud. i recite it in the car as we're driving along and he always can sing the refrain. he's learned about whales, India, drooping roses:  i love all the new words this book  introduces and the silliness of it all.  this is a classic book i am  willing to bet my son will STILL be able to recite from memory when he is  in college\n",
      "==================================================\n",
      "I was really looking forward to these pods based on the reviews.  Starbucks is good, but I prefer bolder taste.... imagine my surprise when I ordered 2 boxes - both were expired! One expired back in 2005 for gosh sakes.  I admit that Amazon agreed to credit me for cost plus part of shipping, but geez, 2 years expired!!!  I'm hoping to find local San Diego area shoppe that carries pods so that I can try something different than starbucks.\n",
      "==================================================\n",
      "Great ingredients although, chicken should have been 1st rather than chicken broth, the only thing I do not think belongs in it is Canola oil. Canola or rapeseed is not someting a dog would ever find in nature and if it did find rapeseed in nature and eat it, it would poison them. Today's Food industries have convinced the masses that Canola oil is a safe and even better oil than olive or virgin coconut, facts though say otherwise. Until the late 70's it was poisonous until they figured out a way to fix that. I still like it but it could be better.\n",
      "==================================================\n",
      "Can't do sugar.  Have tried scores of SF Syrups.  NONE of them can touch the excellence of this product.Thick, delicious.  Perfect.  3 ingredients: Water, Maltitol, Natural Maple Flavor.  PERIOD.  No chemicals.  No garbage.Have numerous friends & family members hooked on this stuff.  My husband & son, who do NOT like \"sugar free\" prefer this over major label regular syrup.I use this as my SWEETENER in baking: cheesecakes, white brownies, muffins, pumpkin pies, etc... Unbelievably delicious...Can you tell I like it? :)\n"
     ]
    }
   ],
   "source": [
    "# https://stackoverflow.com/questions/16206380/python-beautifulsoup-how-to-remove-all-tags-from-an-element\n",
    "from bs4 import BeautifulSoup\n",
    "\n",
    "soup = BeautifulSoup(sent_0, 'lxml')\n",
    "text = soup.get_text()\n",
    "print(text)\n",
    "print(\"=\"*50)\n",
    "\n",
    "soup = BeautifulSoup(sent_1000, 'lxml')\n",
    "text = soup.get_text()\n",
    "print(text)\n",
    "print(\"=\"*50)\n",
    "\n",
    "soup = BeautifulSoup(sent_1500, 'lxml')\n",
    "text = soup.get_text()\n",
    "print(text)\n",
    "print(\"=\"*50)\n",
    "\n",
    "soup = BeautifulSoup(sent_4900, 'lxml')\n",
    "text = soup.get_text()\n",
    "print(text)"
   ]
  },
  {
   "cell_type": "code",
   "execution_count": 17,
   "metadata": {
    "colab": {},
    "colab_type": "code",
    "id": "vQ2mdt2jDYKo"
   },
   "outputs": [],
   "source": [
    "# https://stackoverflow.com/a/47091490/4084039\n",
    "import re\n",
    "\n",
    "def decontracted(phrase):\n",
    "    # specific\n",
    "    phrase = re.sub(r\"won't\", \"will not\", phrase)\n",
    "    phrase = re.sub(r\"can\\'t\", \"can not\", phrase)\n",
    "\n",
    "    # general\n",
    "    phrase = re.sub(r\"n\\'t\", \" not\", phrase)\n",
    "    phrase = re.sub(r\"\\'re\", \" are\", phrase)\n",
    "    phrase = re.sub(r\"\\'s\", \" is\", phrase)\n",
    "    phrase = re.sub(r\"\\'d\", \" would\", phrase)\n",
    "    phrase = re.sub(r\"\\'ll\", \" will\", phrase)\n",
    "    phrase = re.sub(r\"\\'t\", \" not\", phrase)\n",
    "    phrase = re.sub(r\"\\'ve\", \" have\", phrase)\n",
    "    phrase = re.sub(r\"\\'m\", \" am\", phrase)\n",
    "    return phrase"
   ]
  },
  {
   "cell_type": "code",
   "execution_count": 18,
   "metadata": {
    "colab": {},
    "colab_type": "code",
    "id": "GD5_8P5jDYKr",
    "outputId": "84eccfc3-59b4-45cc-805d-6397baa625fe"
   },
   "outputs": [
    {
     "name": "stdout",
     "output_type": "stream",
     "text": [
      "Great ingredients although, chicken should have been 1st rather than chicken broth, the only thing I do not think belongs in it is Canola oil. Canola or rapeseed is not someting a dog would ever find in nature and if it did find rapeseed in nature and eat it, it would poison them. Today is Food industries have convinced the masses that Canola oil is a safe and even better oil than olive or virgin coconut, facts though say otherwise. Until the late 70 is it was poisonous until they figured out a way to fix that. I still like it but it could be better.\n",
      "==================================================\n"
     ]
    }
   ],
   "source": [
    "sent_1500 = decontracted(sent_1500)\n",
    "print(sent_1500)\n",
    "print(\"=\"*50)"
   ]
  },
  {
   "cell_type": "code",
   "execution_count": 19,
   "metadata": {
    "colab": {},
    "colab_type": "code",
    "id": "qTHM_mDnDYKx",
    "outputId": "997e9b00-4c34-44dc-ac7e-8e401a52f083"
   },
   "outputs": [
    {
     "name": "stdout",
     "output_type": "stream",
     "text": [
      "this witty little book makes my son laugh at loud. i recite it in the car as we're driving along and he always can sing the refrain. he's learned about whales, India, drooping roses:  i love all the new words this book  introduces and the silliness of it all.  this is a classic book i am  willing to bet my son will STILL be able to recite from memory when he is  in college\n"
     ]
    }
   ],
   "source": [
    "#remove words with numbers python: https://stackoverflow.com/a/18082370/4084039\n",
    "sent_0 = re.sub(\"\\S*\\d\\S*\", \"\", sent_0).strip()\n",
    "print(sent_0)"
   ]
  },
  {
   "cell_type": "code",
   "execution_count": 20,
   "metadata": {
    "colab": {},
    "colab_type": "code",
    "id": "pXhZUMDzDYK6",
    "outputId": "3a80315a-1042-480b-fdfb-01c360a99823"
   },
   "outputs": [
    {
     "name": "stdout",
     "output_type": "stream",
     "text": [
      "Great ingredients although chicken should have been 1st rather than chicken broth the only thing I do not think belongs in it is Canola oil Canola or rapeseed is not someting a dog would ever find in nature and if it did find rapeseed in nature and eat it it would poison them Today is Food industries have convinced the masses that Canola oil is a safe and even better oil than olive or virgin coconut facts though say otherwise Until the late 70 is it was poisonous until they figured out a way to fix that I still like it but it could be better \n"
     ]
    }
   ],
   "source": [
    "#remove spacial character: https://stackoverflow.com/a/5843547/4084039\n",
    "sent_1500 = re.sub('[^A-Za-z0-9]+', ' ', sent_1500)\n",
    "print(sent_1500)"
   ]
  },
  {
   "cell_type": "code",
   "execution_count": 21,
   "metadata": {
    "colab": {},
    "colab_type": "code",
    "id": "vZJNhKvKDYLA"
   },
   "outputs": [],
   "source": [
    "# https://gist.github.com/sebleier/554280\n",
    "# we are removing the words from the stop words list: 'no', 'nor', 'not'\n",
    "# <br /><br /> ==> after the above steps, we are getting \"br br\"\n",
    "# we are including them into stop words list\n",
    "# instead of <br /> if we have <br/> these tags would have revmoved in the 1st step\n",
    "\n",
    "stopwords= set(['br', 'the', 'i', 'me', 'my', 'myself', 'we', 'our', 'ours', 'ourselves', 'you', \"you're\", \"you've\",\\\n",
    "            \"you'll\", \"you'd\", 'your', 'yours', 'yourself', 'yourselves', 'he', 'him', 'his', 'himself', \\\n",
    "            'she', \"she's\", 'her', 'hers', 'herself', 'it', \"it's\", 'its', 'itself', 'they', 'them', 'their',\\\n",
    "            'theirs', 'themselves', 'what', 'which', 'who', 'whom', 'this', 'that', \"that'll\", 'these', 'those', \\\n",
    "            'am', 'is', 'are', 'was', 'were', 'be', 'been', 'being', 'have', 'has', 'had', 'having', 'do', 'does', \\\n",
    "            'did', 'doing', 'a', 'an', 'the', 'and', 'but', 'if', 'or', 'because', 'as', 'until', 'while', 'of', \\\n",
    "            'at', 'by', 'for', 'with', 'about', 'against', 'between', 'into', 'through', 'during', 'before', 'after',\\\n",
    "            'above', 'below', 'to', 'from', 'up', 'down', 'in', 'out', 'on', 'off', 'over', 'under', 'again', 'further',\\\n",
    "            'then', 'once', 'here', 'there', 'when', 'where', 'why', 'how', 'all', 'any', 'both', 'each', 'few', 'more',\\\n",
    "            'most', 'other', 'some', 'such', 'only', 'own', 'same', 'so', 'than', 'too', 'very', \\\n",
    "            's', 't', 'can', 'will', 'just', 'don', \"don't\", 'should', \"should've\", 'now', 'd', 'll', 'm', 'o', 're', \\\n",
    "            've', 'y', 'ain', 'aren', \"aren't\", 'couldn', \"couldn't\", 'didn', \"didn't\", 'doesn', \"doesn't\", 'hadn',\\\n",
    "            \"hadn't\", 'hasn', \"hasn't\", 'haven', \"haven't\", 'isn', \"isn't\", 'ma', 'mightn', \"mightn't\", 'mustn',\\\n",
    "            \"mustn't\", 'needn', \"needn't\", 'shan', \"shan't\", 'shouldn', \"shouldn't\", 'wasn', \"wasn't\", 'weren', \"weren't\", \\\n",
    "            'won', \"won't\", 'wouldn', \"wouldn't\"])"
   ]
  },
  {
   "cell_type": "code",
   "execution_count": 22,
   "metadata": {
    "colab": {},
    "colab_type": "code",
    "id": "1Rd8zIc8DYLF",
    "outputId": "33fd610b-9479-4f0e-bfd1-10e308b4b382"
   },
   "outputs": [
    {
     "name": "stderr",
     "output_type": "stream",
     "text": [
      "100%|████████████████████████████████████████████████████████████████████████| 364171/364171 [04:14<00:00, 1428.74it/s]\n"
     ]
    }
   ],
   "source": [
    "# Combining all the above students \n",
    "from tqdm import tqdm\n",
    "preprocessed_reviews = []\n",
    "# tqdm is for printing the status bar\n",
    "for sentance in tqdm(final['Text'].values):\n",
    "    sentance = re.sub(r\"http\\S+\", \"\", sentance)\n",
    "    sentance = BeautifulSoup(sentance, 'lxml').get_text()\n",
    "    sentance = decontracted(sentance)\n",
    "    sentance = re.sub(\"\\S*\\d\\S*\", \"\", sentance).strip()\n",
    "    sentance = re.sub('[^A-Za-z]+', ' ', sentance)\n",
    "    # https://gist.github.com/sebleier/554280\n",
    "    sentance = ' '.join(e.lower() for e in sentance.split() if e.lower() not in stopwords)\n",
    "    preprocessed_reviews.append(sentance.strip())"
   ]
  },
  {
   "cell_type": "code",
   "execution_count": 23,
   "metadata": {
    "colab": {},
    "colab_type": "code",
    "id": "YBWzfi2NDYLL",
    "outputId": "479570d6-066b-4f7e-afe4-f6f21f19a95b"
   },
   "outputs": [
    {
     "data": {
      "text/plain": [
       "'great ingredients although chicken rather chicken broth thing not think belongs canola oil canola rapeseed not someting dog would ever find nature find rapeseed nature eat would poison today food industries convinced masses canola oil safe even better oil olive virgin coconut facts though say otherwise late poisonous figured way fix still like could better'"
      ]
     },
     "execution_count": 23,
     "metadata": {},
     "output_type": "execute_result"
    }
   ],
   "source": [
    "preprocessed_reviews[1500]"
   ]
  },
  {
   "cell_type": "code",
   "execution_count": 24,
   "metadata": {},
   "outputs": [],
   "source": [
    "ln = (len(preprocessed_reviews))"
   ]
  },
  {
   "cell_type": "code",
   "execution_count": 25,
   "metadata": {},
   "outputs": [],
   "source": [
    "final['preprocessed_text']=preprocessed_reviews"
   ]
  },
  {
   "cell_type": "code",
   "execution_count": 26,
   "metadata": {},
   "outputs": [],
   "source": [
    "#calculating the number of words in each review\n",
    "length = []\n",
    "for i in range(len(preprocessed_reviews)):\n",
    "    length.append(len(preprocessed_reviews[i].split()))\n",
    "final['length_of_text']=length"
   ]
  },
  {
   "cell_type": "markdown",
   "metadata": {},
   "source": [
    "### Preparing datasets"
   ]
  },
  {
   "cell_type": "code",
   "execution_count": 27,
   "metadata": {
    "colab": {},
    "colab_type": "code",
    "id": "G9NmSQw9DYLa"
   },
   "outputs": [
    {
     "data": {
      "text/plain": [
       "(100000, 12)"
      ]
     },
     "execution_count": 27,
     "metadata": {},
     "output_type": "execute_result"
    }
   ],
   "source": [
    "#splitting data evenly to avoid imbalance data\n",
    "\n",
    "positive_data = final[final[\"Score\"] == 1].sample(n = 50000)\n",
    "negative_data = final[final[\"Score\"] == 0].sample(n = 50000)\n",
    "new_final = pd.concat([positive_data, negative_data])\n",
    "new_final.shape"
   ]
  },
  {
   "cell_type": "code",
   "execution_count": 28,
   "metadata": {},
   "outputs": [],
   "source": [
    "#https://pandas.pydata.org/pandas-docs/stable/reference/api/pandas.to_datetime.html\n",
    "#conversion of Unix time\n",
    "new_final[\"Time\"] = pd.to_datetime(new_final[\"Time\"], unit = \"s\")\n",
    "new_final = new_final.sort_values(by = \"Time\")"
   ]
  },
  {
   "cell_type": "code",
   "execution_count": 29,
   "metadata": {},
   "outputs": [
    {
     "data": {
      "text/html": [
       "<div>\n",
       "<style scoped>\n",
       "    .dataframe tbody tr th:only-of-type {\n",
       "        vertical-align: middle;\n",
       "    }\n",
       "\n",
       "    .dataframe tbody tr th {\n",
       "        vertical-align: top;\n",
       "    }\n",
       "\n",
       "    .dataframe thead th {\n",
       "        text-align: right;\n",
       "    }\n",
       "</style>\n",
       "<table border=\"1\" class=\"dataframe\">\n",
       "  <thead>\n",
       "    <tr style=\"text-align: right;\">\n",
       "      <th></th>\n",
       "      <th>Id</th>\n",
       "      <th>ProductId</th>\n",
       "      <th>UserId</th>\n",
       "      <th>ProfileName</th>\n",
       "      <th>HelpfulnessNumerator</th>\n",
       "      <th>HelpfulnessDenominator</th>\n",
       "      <th>Score</th>\n",
       "      <th>Time</th>\n",
       "      <th>Summary</th>\n",
       "      <th>Text</th>\n",
       "      <th>preprocessed_text</th>\n",
       "      <th>length_of_text</th>\n",
       "    </tr>\n",
       "  </thead>\n",
       "  <tbody>\n",
       "    <tr>\n",
       "      <th>138683</th>\n",
       "      <td>150501</td>\n",
       "      <td>0006641040</td>\n",
       "      <td>AJ46FKXOVC7NR</td>\n",
       "      <td>Nicholas A Mesiano</td>\n",
       "      <td>2</td>\n",
       "      <td>2</td>\n",
       "      <td>1</td>\n",
       "      <td>1999-10-25</td>\n",
       "      <td>This whole series is great way to spend time w...</td>\n",
       "      <td>I can remember seeing the show when it aired o...</td>\n",
       "      <td>remember seeing show aired television years ag...</td>\n",
       "      <td>32</td>\n",
       "    </tr>\n",
       "    <tr>\n",
       "      <th>346055</th>\n",
       "      <td>374359</td>\n",
       "      <td>B00004CI84</td>\n",
       "      <td>A344SMIA5JECGM</td>\n",
       "      <td>Vincent P. Ross</td>\n",
       "      <td>1</td>\n",
       "      <td>2</td>\n",
       "      <td>1</td>\n",
       "      <td>1999-12-06</td>\n",
       "      <td>A modern day fairy tale</td>\n",
       "      <td>A twist of rumplestiskin captured on film, sta...</td>\n",
       "      <td>twist rumplestiskin captured film starring mic...</td>\n",
       "      <td>21</td>\n",
       "    </tr>\n",
       "    <tr>\n",
       "      <th>346041</th>\n",
       "      <td>374343</td>\n",
       "      <td>B00004CI84</td>\n",
       "      <td>A1B2IZU1JLZA6</td>\n",
       "      <td>Wes</td>\n",
       "      <td>19</td>\n",
       "      <td>23</td>\n",
       "      <td>0</td>\n",
       "      <td>2000-01-19</td>\n",
       "      <td>WARNING: CLAMSHELL EDITION IS EDITED TV VERSION</td>\n",
       "      <td>I, myself always enjoyed this movie, it's very...</td>\n",
       "      <td>always enjoyed movie funny entertaining not he...</td>\n",
       "      <td>32</td>\n",
       "    </tr>\n",
       "    <tr>\n",
       "      <th>346141</th>\n",
       "      <td>374450</td>\n",
       "      <td>B00004CI84</td>\n",
       "      <td>ACJR7EQF9S6FP</td>\n",
       "      <td>Jeremy Robertson</td>\n",
       "      <td>2</td>\n",
       "      <td>3</td>\n",
       "      <td>1</td>\n",
       "      <td>2000-02-26</td>\n",
       "      <td>Bettlejuice...Bettlejuice...BETTLEJUICE!</td>\n",
       "      <td>What happens when you say his name three times...</td>\n",
       "      <td>happens say name three times michael keaten st...</td>\n",
       "      <td>106</td>\n",
       "    </tr>\n",
       "    <tr>\n",
       "      <th>121041</th>\n",
       "      <td>131217</td>\n",
       "      <td>B00004RAMX</td>\n",
       "      <td>A5NQLNC6QPGSI</td>\n",
       "      <td>Kim Nason</td>\n",
       "      <td>7</td>\n",
       "      <td>8</td>\n",
       "      <td>1</td>\n",
       "      <td>2000-07-31</td>\n",
       "      <td>End your Gopher Problems</td>\n",
       "      <td>I have just recently purchased the Woodstream ...</td>\n",
       "      <td>recently purchased woodstream corp gopher trap...</td>\n",
       "      <td>44</td>\n",
       "    </tr>\n",
       "  </tbody>\n",
       "</table>\n",
       "</div>"
      ],
      "text/plain": [
       "            Id   ProductId          UserId         ProfileName  \\\n",
       "138683  150501  0006641040   AJ46FKXOVC7NR  Nicholas A Mesiano   \n",
       "346055  374359  B00004CI84  A344SMIA5JECGM     Vincent P. Ross   \n",
       "346041  374343  B00004CI84   A1B2IZU1JLZA6                 Wes   \n",
       "346141  374450  B00004CI84   ACJR7EQF9S6FP    Jeremy Robertson   \n",
       "121041  131217  B00004RAMX   A5NQLNC6QPGSI           Kim Nason   \n",
       "\n",
       "        HelpfulnessNumerator  HelpfulnessDenominator  Score       Time  \\\n",
       "138683                     2                       2      1 1999-10-25   \n",
       "346055                     1                       2      1 1999-12-06   \n",
       "346041                    19                      23      0 2000-01-19   \n",
       "346141                     2                       3      1 2000-02-26   \n",
       "121041                     7                       8      1 2000-07-31   \n",
       "\n",
       "                                                  Summary  \\\n",
       "138683  This whole series is great way to spend time w...   \n",
       "346055                            A modern day fairy tale   \n",
       "346041    WARNING: CLAMSHELL EDITION IS EDITED TV VERSION   \n",
       "346141           Bettlejuice...Bettlejuice...BETTLEJUICE!   \n",
       "121041                           End your Gopher Problems   \n",
       "\n",
       "                                                     Text  \\\n",
       "138683  I can remember seeing the show when it aired o...   \n",
       "346055  A twist of rumplestiskin captured on film, sta...   \n",
       "346041  I, myself always enjoyed this movie, it's very...   \n",
       "346141  What happens when you say his name three times...   \n",
       "121041  I have just recently purchased the Woodstream ...   \n",
       "\n",
       "                                        preprocessed_text  length_of_text  \n",
       "138683  remember seeing show aired television years ag...              32  \n",
       "346055  twist rumplestiskin captured film starring mic...              21  \n",
       "346041  always enjoyed movie funny entertaining not he...              32  \n",
       "346141  happens say name three times michael keaten st...             106  \n",
       "121041  recently purchased woodstream corp gopher trap...              44  "
      ]
     },
     "execution_count": 29,
     "metadata": {},
     "output_type": "execute_result"
    }
   ],
   "source": [
    "new_final.head()"
   ]
  },
  {
   "cell_type": "code",
   "execution_count": null,
   "metadata": {},
   "outputs": [],
   "source": []
  },
  {
   "cell_type": "code",
   "execution_count": 30,
   "metadata": {},
   "outputs": [
    {
     "name": "stdout",
     "output_type": "stream",
     "text": [
      "(100000,)\n",
      "<class 'numpy.ndarray'>\n",
      "(100000,)\n",
      "<class 'numpy.ndarray'>\n"
     ]
    }
   ],
   "source": [
    "#converting the dataframe to array\n",
    "# x contains all reviews\n",
    "# y contains its corresponding class labels\n",
    "x = new_final['preprocessed_text'].values\n",
    "y = new_final['Score'].values\n",
    "print(y.shape)\n",
    "print(type(y))\n",
    "print(x.shape)\n",
    "print(type(x))\n"
   ]
  },
  {
   "cell_type": "markdown",
   "metadata": {},
   "source": [
    "### Splitting Data"
   ]
  },
  {
   "cell_type": "code",
   "execution_count": 31,
   "metadata": {},
   "outputs": [],
   "source": [
    "# Splitting x and y (total data) for x1,y1 and xTest, yTest\n",
    "x1 = x[:75000]\n",
    "y1 = y[:75000]\n",
    "xTest = x[75000:]\n",
    "yTest = y[75000:]\n",
    "\n",
    "# Splitting x1 and y2 for xCV,yCV and xTrain, yTrain\n",
    "xTrain = x1[:56250]\n",
    "yTrain = y1[:56250]\n",
    "xCV = x1[56250:]\n",
    "yCV = y1[56250:]"
   ]
  },
  {
   "cell_type": "code",
   "execution_count": 32,
   "metadata": {},
   "outputs": [
    {
     "name": "stdout",
     "output_type": "stream",
     "text": [
      "Shape of Train data (56250,) (56250,)\n",
      "Shape of Test data (25000,) (25000,)\n",
      "Shape of Cross Validation data (18750,) (18750,)\n"
     ]
    }
   ],
   "source": [
    "\n",
    "print(\"Shape of Train data \"+ str(xTrain.shape), str(yTrain.shape))\n",
    "print(\"Shape of Test data \"+ str(xTest.shape), str(yTest.shape))\n",
    "print(\"Shape of Cross Validation data \"+ str(xCV.shape), str(yCV.shape))"
   ]
  },
  {
   "cell_type": "code",
   "execution_count": 33,
   "metadata": {},
   "outputs": [],
   "source": [
    "#from sklearn.model_selection import train_test_split\n",
    "\n",
    "# Splitting Train and Test data from total data\n",
    "#xTrain, xTest, yTrain, yTest = train_test_split(x, y, test_size = 0.25)\n",
    "\n",
    "# Splitting Train and Cross Validate data from Train data\n",
    "#xTrain, xCV, yTrain, yCV = train_test_split(xTrain, yTrain, test_size = 0.25)\n",
    "\n",
    "#print(\"Shape of Train data \"+ str(xTrain.shape), str(yTrain.shape))\n",
    "#print(\"Shape of Test data \"+ str(xTest.shape), str(yTest.shape))\n",
    "#print(\"Shape of Cross Validation data \"+ str(xCV.shape), str(yCV.shape))\n"
   ]
  },
  {
   "cell_type": "code",
   "execution_count": 35,
   "metadata": {},
   "outputs": [
    {
     "name": "stdout",
     "output_type": "stream",
     "text": [
      "<class 'numpy.ndarray'>\n",
      "Number of positive and negative values in Train data\n",
      "[[    0     1]\n",
      " [26736 29514]]\n"
     ]
    }
   ],
   "source": [
    "# frequency count of number of positive and negative values in Train data\n",
    "# source: https://www.w3resource.com/python-exercises/numpy/python-numpy-exercise-94.php\n",
    "print(type(yTrain))\n",
    "unique_elements, counts_elements = np.unique(yTrain, return_counts=True)\n",
    "print(\"Number of positive and negative values in Train data\")\n",
    "print(np.asarray((unique_elements, counts_elements)))"
   ]
  },
  {
   "cell_type": "markdown",
   "metadata": {
    "colab_type": "text",
    "id": "grP7WVsuDYMp"
   },
   "source": [
    "#  Assignment 5: Logistic Regression"
   ]
  },
  {
   "cell_type": "markdown",
   "metadata": {
    "colab_type": "text",
    "id": "ysQgMV4SDYMq"
   },
   "source": [
    "<ol>\n",
    "    <li><strong>Apply Logistic Regression on these feature sets</strong>\n",
    "        <ul>\n",
    "            <li><font color='red'>SET 1:</font>Review text, preprocessed one converted into vectors using (BOW)</li>\n",
    "            <li><font color='red'>SET 2:</font>Review text, preprocessed one converted into vectors using (TFIDF)</li>\n",
    "            <li><font color='red'>SET 3:</font>Review text, preprocessed one converted into vectors using (AVG W2v)</li>\n",
    "            <li><font color='red'>SET 4:</font>Review text, preprocessed one converted into vectors using (TFIDF W2v)</li>\n",
    "        </ul>\n",
    "    </li>\n",
    "    <br>\n",
    "    <li><strong>Hyper paramter tuning (find best hyper parameters corresponding the algorithm that you choose)</strong>\n",
    "        <ul>\n",
    "    <li>Find the best hyper parameter which will give the maximum <a href='https://www.appliedaicourse.com/course/applied-ai-course-online/lessons/receiver-operating-characteristic-curve-roc-curve-and-auc-1/'>AUC</a> value</li>\n",
    "    <li>Find the best hyper paramter using k-fold cross validation or simple cross validation data</li>\n",
    "    <li>Use gridsearch cv or randomsearch cv or you can also write your own for loops to do this task of hyperparameter tuning</li>          \n",
    "        </ul>\n",
    "    </li>\n",
    "    <br>\n",
    "    <li><strong>Pertubation Test</strong>\n",
    "        <ul>\n",
    "    <li>Get the weights W after fit your model with the data X i.e Train data.</li>\n",
    "    <li>Add a noise to the X (X' = X + e) and get the new data set X' (if X is a sparse\n",
    "matrix, X.data+=e)</li>\n",
    "    <li>Fit the model again on data X' and get the weights W'</li>\n",
    "    <li>Add a small eps value(to eliminate the divisible by zero error) to W and W’ i.e\n",
    "W=W+10^-6 and W’ = W’+10^-6</li>\n",
    "    <li>Now find the % change between W and W' (| (W-W') / (W) |)*100)</li>\n",
    "    <li>Calculate the 0th, 10th, 20th, 30th, ...100th percentiles, and observe any sudden rise in the values of percentage_change_vector</li>\n",
    "    <li> Ex: consider your 99th percentile is 1.3 and your 100th percentiles are 34.6, there is sudden rise from 1.3 to 34.6, now calculate the 99.1, 99.2, 99.3,..., 100th percentile values and get the proper value after which there is sudden rise the values, assume it is 2.5</li>\n",
    "            <li> Print the feature names whose % change is more than a threshold x(in our example it's 2.5)</li>\n",
    "        </ul>\n",
    "    </li>\n",
    "    <br>\n",
    "    <li><strong>Sparsity</strong>\n",
    "        <ul>\n",
    "    <li>Calculate sparsity on weight vector obtained after using L1 regularization</li>\n",
    "        </ul>\n",
    "    </li>\n",
    "    <br><font color='red'>NOTE: Do sparsity and multicollinearity for any one of the vectorizers. Bow or tf-idf is recommended.</font>\n",
    "    <br>\n",
    "    <br>\n",
    "    <li><strong>Feature importance</strong>\n",
    "        <ul>\n",
    "    <li>Get top 10 important features for both positive and negative classes separately.</li>\n",
    "        </ul>\n",
    "    </li>\n",
    "    <br>\n",
    "    <li><strong>Feature engineering</strong>\n",
    "        <ul>\n",
    "    <li>To increase the performance of your model, you can also experiment with with feature engineering like :</li>\n",
    "            <ul>\n",
    "            <li>Taking length of reviews as another feature.</li>\n",
    "            <li>Considering some features from review summary as well.</li>\n",
    "        </ul>\n",
    "        </ul>\n",
    "    </li>\n",
    "    <br>\n",
    "    <li><strong>Representation of results</strong>\n",
    "        <ul>\n",
    "    <li>You need to plot the performance of model both on train data and cross validation data for each hyper parameter, like shown in the figure.\n",
    "    <img src='train_cv_auc.JPG' width=300px></li>\n",
    "    <li>Once after you found the best hyper parameter, you need to train your model with it, and find the AUC on test data and plot the ROC curve on both train and test.\n",
    "    <img src='train_test_auc.JPG' width=300px></li>\n",
    "    <li>Along with plotting ROC curve, you need to print the <a href='https://www.appliedaicourse.com/course/applied-ai-course-online/lessons/confusion-matrix-tpr-fpr-fnr-tnr-1/'>confusion matrix</a> with predicted and original labels of test data points. Please visualize your confusion matrices using <a href='https://seaborn.pydata.org/generated/seaborn.heatmap.html'>seaborn heatmaps.\n",
    "    <img src='confusion_matrix.png' width=300px></li>\n",
    "        </ul>\n",
    "    </li>\n",
    "    <br>\n",
    "    <li><strong>Conclusion</strong>\n",
    "        <ul>\n",
    "    <li>You need to summarize the results at the end of the notebook, summarize it in the table format. To print out a table please refer to this prettytable library<a href='http://zetcode.com/python/prettytable/'>  link</a> \n",
    "        <img src='summary.JPG' width=400px>\n",
    "    </li>\n",
    "        </ul>\n",
    "</ol>"
   ]
  },
  {
   "cell_type": "markdown",
   "metadata": {
    "colab_type": "text",
    "id": "juYtRIKQDYMr"
   },
   "source": [
    "<h4><font color='red'>Note: Data Leakage</font></h4>\n",
    "\n",
    "1. There will be an issue of data-leakage if you vectorize the entire data and then split it into train/cv/test.\n",
    "2. To avoid the issue of data-leakag, make sure to split your data first and then vectorize it. \n",
    "3. While vectorizing your data, apply the method fit_transform() on you train data, and apply the method transform() on cv/test data.\n",
    "4. For more details please go through this <a href='https://soundcloud.com/applied-ai-course/leakage-bow-and-tfidf'>link.</a>"
   ]
  },
  {
   "cell_type": "markdown",
   "metadata": {},
   "source": [
    "# Applying Logistic Regression"
   ]
  },
  {
   "cell_type": "markdown",
   "metadata": {},
   "source": [
    "### 1. Bag of Words Vectorization"
   ]
  },
  {
   "cell_type": "code",
   "execution_count": 36,
   "metadata": {
    "colab": {},
    "colab_type": "code",
    "id": "KGkxITLpDYLl",
    "outputId": "16064dd0-ec67-4bdc-eb91-bde23ac4377b"
   },
   "outputs": [
    {
     "name": "stdout",
     "output_type": "stream",
     "text": [
      "After transform\n",
      "====================================================================================================\n",
      "Train Data\n",
      "(56250, 46709) (56250,)\n",
      "Cross Validation Data\n",
      "(18750, 46709) (18750,)\n",
      "Test Data\n",
      "(25000, 46709) (25000,)\n",
      "====================================================================================================\n"
     ]
    }
   ],
   "source": [
    "#Bag of Words\n",
    "\n",
    "count_vect = CountVectorizer()\n",
    "count_vect.fit(xTrain)\n",
    "xTrain_bow=count_vect.transform(xTrain)\n",
    "xCV_bow=count_vect.transform(xCV)\n",
    "xTest_bow=count_vect.transform(xTest)\n",
    "print(\"After transform\")\n",
    "print('='*100)\n",
    "print(\"Train Data\")\n",
    "print(xTrain_bow.shape, yTrain.shape)\n",
    "print(\"Cross Validation Data\")\n",
    "print(xCV_bow.shape, yCV.shape)\n",
    "print(\"Test Data\")\n",
    "print(xTest_bow.shape, yTest.shape)\n",
    "print('='*100)"
   ]
  },
  {
   "cell_type": "markdown",
   "metadata": {
    "colab_type": "text",
    "id": "ArO5fI7kDYMv"
   },
   "source": [
    "###  Applying Logistic Regression with L1 regularization on BOW,<font color='red'> SET 1</font>"
   ]
  },
  {
   "cell_type": "code",
   "execution_count": 37,
   "metadata": {
    "colab": {},
    "colab_type": "code",
    "id": "Rw_A_9pfDYMw"
   },
   "outputs": [
    {
     "name": "stderr",
     "output_type": "stream",
     "text": [
      "100%|████████████████████████████████████████████████████████████████████████████████████| 8/8 [00:15<00:00,  3.69s/it]\n"
     ]
    }
   ],
   "source": [
    "# Please write all the code with proper documentation\n",
    "from sklearn.linear_model import LogisticRegression\n",
    "from sklearn.model_selection import GridSearchCV, RandomizedSearchCV\n",
    "from sklearn.metrics import roc_auc_score\n",
    "\n",
    "c_values = [0.00001, 0.0001, 0.001, 0.01, 0.1, 1, 10, 100]\n",
    "AUC_BOW_Train = []\n",
    "AUC_BOW_CV = []\n",
    "\n",
    "#Logistic Regression Classifier with L1 regularization on c values\n",
    "for i in tqdm(c_values):\n",
    "    clf = LogisticRegression(C = i, penalty='l1', class_weight = 'balanced')\n",
    "    clf.fit(xTrain_bow, yTrain)\n",
    "\n",
    "    #Predicting probability of positive class\n",
    "    #here predict_proba outputs 2 values: 1st-probability of getting class 0, 2nd-probability of getting class 1\n",
    "    #we are slicing 2nd value\n",
    "    Y_train_pred =  clf.predict_proba(xTrain_bow)[:,1]\n",
    "    Y_cv_pred =  clf.predict_proba(xCV_bow)[:,1]\n",
    "    \n",
    "    #Calculation of ROC-AUC score on both train and-cross validate data\n",
    "    AUC_BOW_Train.append(roc_auc_score(yTrain,Y_train_pred))\n",
    "    AUC_BOW_CV.append(roc_auc_score(yCV, Y_cv_pred))\n",
    "\n"
   ]
  },
  {
   "cell_type": "code",
   "execution_count": 38,
   "metadata": {},
   "outputs": [
    {
     "name": "stdout",
     "output_type": "stream",
     "text": [
      "[0.5, 0.5, 0.7451093708249181, 0.8974217559097313, 0.9499627863266018, 0.982551644312914, 0.9982681146623982, 0.9998027262680762]\n"
     ]
    }
   ],
   "source": [
    "print(AUC_BOW_Train)"
   ]
  },
  {
   "cell_type": "code",
   "execution_count": 39,
   "metadata": {},
   "outputs": [
    {
     "data": {
      "image/png": "[encoded data removed]",
      "text/plain": [
       "<Figure size 432x288 with 1 Axes>"
      ]
     },
     "metadata": {
      "needs_background": "light"
     },
     "output_type": "display_data"
    }
   ],
   "source": [
    "#plotting error plots\n",
    "c_values = [0.00001, 0.0001, 0.001, 0.01, 0.1, 1, 10, 100]\n",
    "\n",
    "plt.plot(c_values, AUC_BOW_Train, label='Train AUC L1')\n",
    "plt.plot(c_values, AUC_BOW_CV, label='CV AUC L1')\n",
    "\n",
    "plt.scatter(c_values, AUC_BOW_Train, label='Train AUC L1')\n",
    "plt.scatter(c_values, AUC_BOW_CV, label='CV AUC L1')\n",
    "plt.xscale('log')\n",
    "\n",
    "plt.legend()\n",
    "plt.xlabel(\"C\")\n",
    "plt.ylabel(\"AUC\")\n",
    "plt.title(\"Error Plots on Bag of words - Logistic Regression L1\")\n",
    "plt.show()"
   ]
  },
  {
   "cell_type": "code",
   "execution_count": 40,
   "metadata": {},
   "outputs": [],
   "source": [
    "#Logistic Regression on test data with optimal c = 10\n",
    "optimal = LogisticRegression(C = 10, penalty='l1', class_weight = 'balanced')\n",
    "optimal.fit(xTrain_bow, yTrain)\n",
    "predict_BOW_prob = optimal.predict_proba(xTest_bow)[:,1]\n",
    "Train_predict_BOW = optimal.predict_proba(xTrain_bow)[:,1]\n",
    "predict_BOW_class = optimal.predict(xTest_bow)\n",
    "predict_testdata_BOW = optimal.predict(xTrain_bow)"
   ]
  },
  {
   "cell_type": "code",
   "execution_count": 41,
   "metadata": {},
   "outputs": [
    {
     "data": {
      "image/png": "[encoded data removed]",
      "text/plain": [
       "<Figure size 432x288 with 1 Axes>"
      ]
     },
     "metadata": {
      "needs_background": "light"
     },
     "output_type": "display_data"
    }
   ],
   "source": [
    "from sklearn.metrics import roc_curve, auc\n",
    "Tr_FPR, Tr_TPR, tr = roc_curve(yTrain, Train_predict_BOW)\n",
    "Te_FPR, Te_TPR, te = roc_curve(yTest, predict_BOW_prob)\n",
    "\n",
    "plt.plot(Tr_FPR, Tr_TPR, label=\"Train AUC L1 =\"+str(auc(Tr_FPR, Tr_TPR)))\n",
    "plt.plot(Te_FPR, Te_TPR, label=\"Test AUC L1 = \"+str(auc(Te_FPR, Te_TPR)))\n",
    "plt.legend()\n",
    "plt.xlabel(\"FPR\")\n",
    "plt.ylabel(\"TPR\")\n",
    "plt.title(\"Comparision of ROC curves for Bag of Words using L1 Logistic Regression\")\n",
    "plt.show()"
   ]
  },
  {
   "cell_type": "code",
   "execution_count": 42,
   "metadata": {},
   "outputs": [
    {
     "data": {
      "text/plain": [
       "Text(32.99999999999999, 0.5, 'Actual Values')"
      ]
     },
     "execution_count": 42,
     "metadata": {},
     "output_type": "execute_result"
    },
    {
     "data": {
      "image/png": "[encoded data removed]",
      "text/plain": [
       "<Figure size 432x288 with 2 Axes>"
      ]
     },
     "metadata": {
      "needs_background": "light"
     },
     "output_type": "display_data"
    }
   ],
   "source": [
    "# source for heat map: https://stackoverflow.com/a/37790707\n",
    "conf_matrix = confusion_matrix(yTrain, predict_testdata_BOW)\n",
    "class_label = [\"Negative (or) 0\" , \"Positive (or) 1\"]\n",
    "df_conf_matrix = pd.DataFrame(conf_matrix, index=class_label, columns=class_label)\n",
    "sns.heatmap(df_conf_matrix, annot=True, fmt='d', cmap=\"YlGnBu\")\n",
    "plt.title(\"Confusion Matrix for Logistic Regression - L1 Regularization using BOW on TRAIN DATA\")\n",
    "plt.xlabel(\"Predicted Values\")\n",
    "plt.ylabel(\"Actual Values\")\n"
   ]
  },
  {
   "cell_type": "code",
   "execution_count": 43,
   "metadata": {},
   "outputs": [
    {
     "data": {
      "text/plain": [
       "Text(32.99999999999999, 0.5, 'Actual Values')"
      ]
     },
     "execution_count": 43,
     "metadata": {},
     "output_type": "execute_result"
    },
    {
     "data": {
      "image/png": "[encoded data removed]",
      "text/plain": [
       "<Figure size 432x288 with 2 Axes>"
      ]
     },
     "metadata": {
      "needs_background": "light"
     },
     "output_type": "display_data"
    }
   ],
   "source": [
    "# source for heat map: https://stackoverflow.com/a/37790707\n",
    "conf_matrix = confusion_matrix(yTest, predict_BOW_class)\n",
    "class_label = [\"Negative (or) 0\" , \"Positive (or) 1\"]\n",
    "df_conf_matrix = pd.DataFrame(conf_matrix, index=class_label, columns=class_label)\n",
    "sns.heatmap(df_conf_matrix, annot=True, fmt='d')\n",
    "plt.title(\"Confusion Matrix for Logistic Regression - L1 Regularization using BOW on TEST DATA\")\n",
    "plt.xlabel(\"Predicted Values\")\n",
    "plt.ylabel(\"Actual Values\")\n"
   ]
  },
  {
   "cell_type": "markdown",
   "metadata": {},
   "source": [
    "####  Calculating sparsity on weight vector obtained using L1 regularization on BOW,<font color='red'> SET 1</font>"
   ]
  },
  {
   "cell_type": "code",
   "execution_count": 53,
   "metadata": {},
   "outputs": [
    {
     "name": "stdout",
     "output_type": "stream",
     "text": [
      "Non Zero weights in the Logistic Regression model with optimal C = 10\n",
      "12196\n"
     ]
    }
   ],
   "source": [
    "#Sparsity\n",
    "cf = LogisticRegression(C = 10, penalty='l1', class_weight = 'balanced')\n",
    "cf.fit(xTrain_bow, yTrain)\n",
    "w = cf.coef_\n",
    "print(\"Non Zero weights in the Logistic Regression model with optimal C = 10\")\n",
    "print(np.count_nonzero(w))"
   ]
  },
  {
   "cell_type": "code",
   "execution_count": 54,
   "metadata": {},
   "outputs": [
    {
     "name": "stderr",
     "output_type": "stream",
     "text": [
      "\r",
      "  0%|                                                                                            | 0/6 [00:00<?, ?it/s]"
     ]
    },
    {
     "name": "stdout",
     "output_type": "stream",
     "text": [
      "C = 1e-05 number of Non-Zero weights are 0\n"
     ]
    },
    {
     "name": "stderr",
     "output_type": "stream",
     "text": [
      "\r",
      " 17%|██████████████                                                                      | 1/6 [00:00<00:00,  5.10it/s]"
     ]
    },
    {
     "name": "stdout",
     "output_type": "stream",
     "text": [
      "C = 0.0001 number of Non-Zero weights are 0\n"
     ]
    },
    {
     "name": "stderr",
     "output_type": "stream",
     "text": [
      "\r",
      " 33%|████████████████████████████                                                        | 2/6 [00:00<00:00,  5.04it/s]"
     ]
    },
    {
     "name": "stdout",
     "output_type": "stream",
     "text": [
      "C = 0.001 number of Non-Zero weights are 9\n"
     ]
    },
    {
     "name": "stderr",
     "output_type": "stream",
     "text": [
      "\r",
      " 50%|██████████████████████████████████████████                                          | 3/6 [00:00<00:00,  3.83it/s]"
     ]
    },
    {
     "name": "stdout",
     "output_type": "stream",
     "text": [
      "C = 0.01 number of Non-Zero weights are 174\n"
     ]
    },
    {
     "name": "stderr",
     "output_type": "stream",
     "text": [
      "\r",
      " 67%|████████████████████████████████████████████████████████                            | 4/6 [00:01<00:00,  2.86it/s]"
     ]
    },
    {
     "name": "stdout",
     "output_type": "stream",
     "text": [
      "C = 0.1 number of Non-Zero weights are 1126\n"
     ]
    },
    {
     "name": "stderr",
     "output_type": "stream",
     "text": [
      "\r",
      " 83%|██████████████████████████████████████████████████████████████████████              | 5/6 [00:02<00:00,  2.16it/s]"
     ]
    },
    {
     "name": "stdout",
     "output_type": "stream",
     "text": [
      "C = 1 number of Non-Zero weights are 5717\n"
     ]
    },
    {
     "name": "stderr",
     "output_type": "stream",
     "text": [
      "100%|████████████████████████████████████████████████████████████████████████████████████| 6/6 [00:03<00:00,  1.65it/s]\n"
     ]
    }
   ],
   "source": [
    "iterations = [0.00001, 0.0001, 0.001, 0.01, 0.1, 1]\n",
    "for i in tqdm(iterations):\n",
    "    cf = LogisticRegression(C = i, penalty='l1', class_weight = 'balanced')\n",
    "    cf.fit(xTrain_bow, yTrain)\n",
    "    print(\"C = \"+str(i)+\" number of Non-Zero weights are \"+str(np.count_nonzero(cf.coef_)))"
   ]
  },
  {
   "cell_type": "markdown",
   "metadata": {},
   "source": [
    "###### Observation  <br/>\n",
    "As C increases, i.e Lambda decreases and Sparsity also Decreases"
   ]
  },
  {
   "cell_type": "markdown",
   "metadata": {},
   "source": [
    "## Top 10 important features of Positive and Negative class - SET 1"
   ]
  },
  {
   "cell_type": "code",
   "execution_count": 46,
   "metadata": {},
   "outputs": [
    {
     "name": "stdout",
     "output_type": "stream",
     "text": [
      "Top 10 positive features using Bag of Words\n",
      "\n",
      "[(15.47816505252094, 'toothed'), (16.53697288562579, 'dobut'), (17.068866277941314, 'permeating'), (18.111520923835787, 'emeraldforest'), (18.197080284012927, 'hb'), (18.267181710153682, 'ouches'), (18.555586314037978, 'subtotal'), (19.293961799663663, 'unfairly'), (19.500903015590108, 'hokey'), (20.246647407980962, 'pours')]\n",
      "\n",
      "====================================================================================================\n",
      "\n",
      "Top 10 negative features using Bag of Words\n",
      "\n",
      "[(-30.193591090647445, 'coils'), (-16.51562728188424, 'isolate'), (-16.279290285657815, 'spitted'), (-15.66001950298378, 'frappes'), (-15.449909392034376, 'illuminates'), (-15.32393903352178, 'tsang'), (-15.21813812702837, 'eyelids'), (-14.854133747533622, 'impossibly'), (-14.66756138391232, 'gaggingly'), (-14.438695969732134, 'offended')]\n"
     ]
    }
   ],
   "source": [
    "#Source https://www.programcreek.com/python/example/81062/sklearn.datasets.load_iris\n",
    "\n",
    "# calculating the weights obtained using the classifier\n",
    "weights_l1_bow = optimal.coef_\n",
    "\n",
    "#pairing the weights and its corresponding features\n",
    "wght_ftr_pair = dict()\n",
    "feature_names = count_vect.get_feature_names()\n",
    "for weight, feature in zip(weights_l1_bow[0], feature_names):\n",
    "    wght_ftr_pair[weight] = feature\n",
    "\n",
    "#printing the top 10 features\n",
    "print(\"Top 10 positive features using Bag of Words\")\n",
    "print()\n",
    "positive = sorted(zip(weights_l1_bow[0], feature_names))\n",
    "print(positive[-10:])\n",
    "print()\n",
    "print('='*100)\n",
    "print()\n",
    "print(\"Top 10 negative features using Bag of Words\")\n",
    "print()\n",
    "negative = sorted(zip(weights_l1_bow[0], feature_names))\n",
    "print(negative[:10])"
   ]
  },
  {
   "cell_type": "markdown",
   "metadata": {},
   "source": [
    "### Applying Logistic Regression with L2 regularization on BOW,<font color='red'> SET 1</font>"
   ]
  },
  {
   "cell_type": "code",
   "execution_count": 47,
   "metadata": {},
   "outputs": [
    {
     "name": "stderr",
     "output_type": "stream",
     "text": [
      " 75%|███████████████████████████████████████████████████████████████                     | 6/8 [00:15<00:07,  3.83s/it]C:\\Users\\Akhil\\Anaconda3\\lib\\site-packages\\sklearn\\svm\\base.py:929: ConvergenceWarning: Liblinear failed to converge, increase the number of iterations.\n",
      "  \"the number of iterations.\", ConvergenceWarning)\n",
      " 88%|█████████████████████████████████████████████████████████████████████████▌          | 7/8 [00:30<00:07,  7.02s/it]C:\\Users\\Akhil\\Anaconda3\\lib\\site-packages\\sklearn\\svm\\base.py:929: ConvergenceWarning: Liblinear failed to converge, increase the number of iterations.\n",
      "  \"the number of iterations.\", ConvergenceWarning)\n",
      "100%|████████████████████████████████████████████████████████████████████████████████████| 8/8 [00:44<00:00,  9.32s/it]\n"
     ]
    }
   ],
   "source": [
    "c_values = [0.00001, 0.0001, 0.001, 0.01, 0.1, 1, 10, 100]\n",
    "AUC_BOW_Train_l2 = []\n",
    "AUC_BOW_CV_l2 = []\n",
    "\n",
    "#Logistic Regression Classifier with L2 regularization on c values\n",
    "for i in tqdm(c_values):\n",
    "    clf_l2 = LogisticRegression(C = i, penalty='l2', class_weight = 'balanced')\n",
    "    clf_l2.fit(xTrain_bow, yTrain)\n",
    "\n",
    "    #Predicting probability of positive class\n",
    "    #here predict_proba outputs 2 values: 1st-probability of getting class 0, 2nd-probability of getting class 1\n",
    "    #we are slicing 2nd value\n",
    "    Y_train_pred_l2 =  clf_l2.predict_proba(xTrain_bow)[:,1]\n",
    "    Y_cv_pred_l2 =  clf_l2.predict_proba(xCV_bow)[:,1]\n",
    "    \n",
    "    #Calculation of ROC-AUC score on both train and-cross validate data\n",
    "    AUC_BOW_Train_l2.append(roc_auc_score(yTrain,Y_train_pred_l2))\n",
    "    AUC_BOW_CV_l2.append(roc_auc_score(yCV, Y_cv_pred_l2))"
   ]
  },
  {
   "cell_type": "code",
   "execution_count": 48,
   "metadata": {},
   "outputs": [
    {
     "data": {
      "image/png": "[encoded data removed]",
      "text/plain": [
       "<Figure size 432x288 with 1 Axes>"
      ]
     },
     "metadata": {
      "needs_background": "light"
     },
     "output_type": "display_data"
    }
   ],
   "source": [
    "#error plots\n",
    "plt.plot(c_values, AUC_BOW_Train_l2, label='Train AUC L2')\n",
    "plt.plot(c_values, AUC_BOW_CV_l2, label='CV AUC L2')\n",
    "\n",
    "plt.scatter(c_values, AUC_BOW_Train_l2, label='Train AUC L2')\n",
    "plt.scatter(c_values, AUC_BOW_CV_l2, label='CV AUC L2')\n",
    "plt.xscale('log')\n",
    "\n",
    "plt.legend()\n",
    "plt.xlabel(\"C Values\")\n",
    "plt.ylabel(\"AUC\")\n",
    "plt.title(\"Error Plots on Bag of words - Logistic Regression L2 regression\")\n",
    "plt.show()"
   ]
  },
  {
   "cell_type": "code",
   "execution_count": 121,
   "metadata": {},
   "outputs": [],
   "source": [
    "#Logistic Regression on test data with optimal c = 0.1\n",
    "optimal_l2 = LogisticRegression(C = 0.1, penalty='l2', class_weight = 'balanced')\n",
    "optimal_l2.fit(xTrain_bow, yTrain)\n",
    "predict_BOW_prob = optimal_l2.predict_proba(xTest_bow)[:,1]\n",
    "Train_predict_BOW = optimal_l2.predict_proba(xTrain_bow)[:,1]\n",
    "predict_BOW_class = optimal_l2.predict(xTest_bow)\n",
    "predict_testdata_BOW2 = optimal_l2.predict(xTrain_bow)"
   ]
  },
  {
   "cell_type": "code",
   "execution_count": 122,
   "metadata": {},
   "outputs": [
    {
     "data": {
      "image/png": "[encoded data removed]",
      "text/plain": [
       "<Figure size 432x288 with 1 Axes>"
      ]
     },
     "metadata": {
      "needs_background": "light"
     },
     "output_type": "display_data"
    }
   ],
   "source": [
    "from sklearn.metrics import roc_curve, auc\n",
    "Tr_FPR, Tr_TPR, tr = roc_curve(yTrain, Train_predict_BOW)\n",
    "Te_FPR, Te_TPR, te = roc_curve(yTest, predict_BOW_prob)\n",
    "\n",
    "plt.plot(Tr_FPR, Tr_TPR, label=\"Train AUC L2 =\"+str(auc(Tr_FPR, Tr_TPR)))\n",
    "plt.plot(Te_FPR, Te_TPR, label=\"Test AUC L2 =\"+str(auc(Te_FPR, Te_TPR)))\n",
    "plt.legend()\n",
    "plt.xlabel(\"FPR\")\n",
    "plt.ylabel(\"TPR\")\n",
    "plt.title(\"Comparision of ROC curves for Bag of Words using Logistic regression L2\")\n",
    "plt.show()"
   ]
  },
  {
   "cell_type": "code",
   "execution_count": 123,
   "metadata": {
    "scrolled": true
   },
   "outputs": [
    {
     "data": {
      "text/plain": [
       "Text(32.99999999999999, 0.5, 'Actual Values')"
      ]
     },
     "execution_count": 123,
     "metadata": {},
     "output_type": "execute_result"
    },
    {
     "data": {
      "image/png": "[encoded data removed]",
      "text/plain": [
       "<Figure size 432x288 with 2 Axes>"
      ]
     },
     "metadata": {
      "needs_background": "light"
     },
     "output_type": "display_data"
    }
   ],
   "source": [
    "# source for heat map: https://stackoverflow.com/a/37790707\n",
    "conf_matrix = confusion_matrix(yTrain, predict_testdata_BOW2)\n",
    "class_label = [\"Negative (or) 0\" , \"Positive (or) 1\"]\n",
    "df_conf_matrix = pd.DataFrame(conf_matrix, index=class_label, columns=class_label)\n",
    "sns.heatmap(df_conf_matrix, annot=True, fmt='d', cmap=\"YlGnBu\")\n",
    "plt.title(\"Confusion Matrix for Logistic Regression - L2 Regularization using BOW on TRAIN DATA\")\n",
    "plt.xlabel(\"Predicted Values\")\n",
    "plt.ylabel(\"Actual Values\")"
   ]
  },
  {
   "cell_type": "code",
   "execution_count": 124,
   "metadata": {},
   "outputs": [
    {
     "data": {
      "text/plain": [
       "Text(32.99999999999999, 0.5, 'Actual Values')"
      ]
     },
     "execution_count": 124,
     "metadata": {},
     "output_type": "execute_result"
    },
    {
     "data": {
      "image/png": "[encoded data removed]",
      "text/plain": [
       "<Figure size 432x288 with 2 Axes>"
      ]
     },
     "metadata": {
      "needs_background": "light"
     },
     "output_type": "display_data"
    }
   ],
   "source": [
    "# source for heat map: https://stackoverflow.com/a/37790707\n",
    "conf_matrix = confusion_matrix(yTest, predict_BOW_class)\n",
    "class_label = [\"Negative (or) 0\" , \"Positive (or) 1\"]\n",
    "df_conf_matrix = pd.DataFrame(conf_matrix, index=class_label, columns=class_label)\n",
    "sns.heatmap(df_conf_matrix, annot=True, fmt='d')\n",
    "plt.title(\"Confusion Matrix for Logistic Regression - L2 Regularization using BOW on TEST DATA\")\n",
    "plt.xlabel(\"Predicted Values\")\n",
    "plt.ylabel(\"Actual Values\")\n"
   ]
  },
  {
   "cell_type": "markdown",
   "metadata": {},
   "source": [
    "#### Performing pertubation test (multicollinearity check) on BOW,<font color='red'> SET 1</font>"
   ]
  },
  {
   "cell_type": "code",
   "execution_count": 55,
   "metadata": {},
   "outputs": [],
   "source": [
    "#Calculating the old weights - Logistic Regression L2-regulatization of C = 0.1\n",
    "old_weights = optimal_l2.coef_"
   ]
  },
  {
   "cell_type": "code",
   "execution_count": 56,
   "metadata": {},
   "outputs": [],
   "source": [
    "#copying old data to new\n",
    "Xpert_data_new = xTrain_bow\n",
    "\n",
    "#adding noise to the sparse data\n",
    "Xpert_data_new.data = xTrain_bow.data+0.00001\n",
    "\n",
    "#fitting logistic regression model on new data (with noise)\n",
    "clf_per = LogisticRegression(C = 0.1, penalty='l2', class_weight = 'balanced')\n",
    "clf_per.fit(Xpert_data_new, yTrain)\n",
    "\n",
    "#Again calculating new weights from new model which is fitted with optimal c = 0.1\n",
    "new_weights = clf_per.coef_\n"
   ]
  },
  {
   "cell_type": "code",
   "execution_count": 57,
   "metadata": {},
   "outputs": [],
   "source": [
    "# Adding a small epsilon values (to eliminate the divisible by zero error) to old and new weights\n",
    "old_weights = old_weights+0.000001\n",
    "new_weights = new_weights+0.000001"
   ]
  },
  {
   "cell_type": "code",
   "execution_count": null,
   "metadata": {},
   "outputs": [],
   "source": []
  },
  {
   "cell_type": "code",
   "execution_count": 58,
   "metadata": {},
   "outputs": [],
   "source": [
    "# finding the percentage change bewteen old and new weights\n",
    "percent_Change = ((abs(old_weights - new_weights))/old_weights)*100"
   ]
  },
  {
   "cell_type": "code",
   "execution_count": 59,
   "metadata": {},
   "outputs": [],
   "source": [
    "#Source https://www.programcreek.com/python/example/81062/sklearn.datasets.load_iris\n",
    "# pairing the weights and its corresponding feature names\n",
    "wf_pair = dict()\n",
    "features = count_vect.get_feature_names()\n",
    "for weight, feature in zip(old_weights[0], features):\n",
    "    wf_pair[weight] = feature"
   ]
  },
  {
   "cell_type": "code",
   "execution_count": 60,
   "metadata": {},
   "outputs": [
    {
     "name": "stdout",
     "output_type": "stream",
     "text": [
      "(1, 46709)\n"
     ]
    }
   ],
   "source": [
    "print(percent_Change.shape)"
   ]
  },
  {
   "cell_type": "code",
   "execution_count": 61,
   "metadata": {},
   "outputs": [
    {
     "name": "stdout",
     "output_type": "stream",
     "text": [
      "0th percentile = -2765.2612165153882 & difference = -2765.2612165153882\n",
      "10th percentile = -0.05097267929547503 & difference = 2765.2102438360926\n",
      "20th percentile = -0.018499220712518093 & difference = 0.03247345858295694\n",
      "30th percentile = -0.008642239982710796 & difference = 0.009856980729807297\n",
      "40th percentile = -0.0032693025779131075 & difference = 0.005372937404797688\n",
      "50th percentile = 0.0006769335755716203 & difference = 0.003946236153484728\n",
      "60th percentile = 0.004489395781406215 & difference = 0.003812462205834595\n",
      "70th percentile = 0.010066085119407417 & difference = 0.005576689338001202\n",
      "80th percentile = 0.021210727410099224 & difference = 0.011144642290691807\n",
      "90th percentile = 0.05929003675900222 & difference = 0.038079309348902995\n",
      "100th percentile = 957.0441733486334 & difference = 956.9848833118745\n"
     ]
    }
   ],
   "source": [
    "# Calculating the 0th, 10th, 20th, 30th, ...100th percentiles\n",
    "initial=0\n",
    "for i in range(0,101,10):\n",
    "    nex=np.percentile(percent_Change,i)-initial\n",
    "    print(str(i)+\"th percentile = \"+str(np.percentile(percent_Change,i))+\" & difference = \"+str(nex))\n",
    "    initial=np.percentile(percent_Change,i)"
   ]
  },
  {
   "cell_type": "code",
   "execution_count": 62,
   "metadata": {},
   "outputs": [
    {
     "name": "stdout",
     "output_type": "stream",
     "text": [
      "90th percentile = 0.05929003675900222 & difference = 0.05929003675900222\n",
      "91th percentile = 0.06923405353952478 & difference = 0.009944016780522556\n",
      "92th percentile = 0.082793248921644 & difference = 0.013559195382119221\n",
      "93th percentile = 0.10333488004252307 & difference = 0.020541631120879075\n",
      "94th percentile = 0.13544146872752716 & difference = 0.03210658868500409\n",
      "95th percentile = 0.18895030228207244 & difference = 0.053508833554545276\n",
      "96th percentile = 0.2896991010492872 & difference = 0.10074879876721476\n",
      "97th percentile = 0.6154070541920008 & difference = 0.3257079531427136\n",
      "98th percentile = 1.1251213532754538 & difference = 0.509714299083453\n",
      "99th percentile = 1.471545506985241 & difference = 0.3464241537097872\n",
      "100th percentile = 957.0441733486334 & difference = 955.5726278416482\n"
     ]
    }
   ],
   "source": [
    "#getting 90th, 91st, 92nd .. percentiles\n",
    "#since there is a sudden increase from 90th to 100th percentile\n",
    "initial=0\n",
    "for i in range(90,101):\n",
    "    nex=np.percentile(percent_Change,i)-initial\n",
    "    print(str(i)+\"th percentile = \"+str(np.percentile(percent_Change,i))+\" & difference = \"+str(nex))\n",
    "    initial=np.percentile(percent_Change,i)"
   ]
  },
  {
   "cell_type": "code",
   "execution_count": 63,
   "metadata": {},
   "outputs": [
    {
     "name": "stdout",
     "output_type": "stream",
     "text": [
      "99.0th percentile = 1.471545506985241 & difference = 1.471545506985241\n",
      "99.1th percentile = 1.5770719496168488 & difference = 0.10552644263160782\n",
      "99.2th percentile = 1.7511351287457806 & difference = 0.17406317912893177\n",
      "99.3th percentile = 1.855740571447893 & difference = 0.10460544270211236\n",
      "99.4th percentile = 2.057652150300264 & difference = 0.20191157885237088\n",
      "99.5th percentile = 2.393236415718242 & difference = 0.33558426541797814\n",
      "99.6th percentile = 3.0054635324819117 & difference = 0.6122271167636697\n",
      "99.7th percentile = 3.82915262246658 & difference = 0.8236890899846685\n",
      "99.8th percentile = 5.677542082431373 & difference = 1.8483894599647925\n",
      "99.9th percentile = 13.314001019692176 & difference = 7.636458937260803\n",
      "100.0th percentile = 957.0441733486334 & difference = 943.7301723289412\n"
     ]
    }
   ],
   "source": [
    "#getting 99.0th, 99.1th, 99.2th, 99.3th Percentiles\n",
    "initial=0\n",
    "for i in range(990,1001):\n",
    "    nex=np.percentile(percent_Change,i/10)-initial\n",
    "    print(\"%.1fth percentile = \"%(i/10)+str(np.percentile(percent_Change,i/10))+\" & difference = \"+str(nex))\n",
    "    initial=np.percentile(percent_Change,i/10)\n",
    "    \n",
    " "
   ]
  },
  {
   "cell_type": "code",
   "execution_count": 64,
   "metadata": {},
   "outputs": [],
   "source": [
    "#Source https://www.programcreek.com/python/example/81062/sklearn.datasets.load_iris\n",
    "# creating a list for the feature names whose % change is more than a threshold\n",
    "threshold = list()\n",
    "for i,j in zip(percent_Change[0],old_weights[0]):\n",
    "    if(i > 13.31400 ):\n",
    "        threshold.append(j)"
   ]
  },
  {
   "cell_type": "code",
   "execution_count": 65,
   "metadata": {},
   "outputs": [
    {
     "name": "stdout",
     "output_type": "stream",
     "text": [
      "['monoglycerides', 'afficionada', 'aflatoxin', 'algaes', 'belt', 'blair', 'threaten', 'dthe', 'threaten', 'reba', 'drm', 'monoglycerides', 'denatured', 'webshop', 'drm', 'dthe', 'eu', 'institutionalization', 'monoglycerides', 'uridine', 'uridine', 'snowflake', 'snowflake', 'hehehethe', 'hydrolysis', 'imbibed', 'institutionalization', 'reba', 'loitoin', 'monoglycerides', 'main', 'webster', 'monoglycerides', 'muss', 'poll', 'privilege', 'reba', 'saffron', 'showers', 'simlac', 'snarky', 'sneezing', 'snowflake', 'staggered', 'threaten', 'uridine', 'webshop', 'webster']\n",
      "------------------------------------------------------------------------------------------------------------------------\n",
      "Number of Multi Collinear features are 48\n"
     ]
    }
   ],
   "source": [
    "# printing the features \n",
    "threshold_features = list()\n",
    "for i in threshold:\n",
    "    threshold_features.append(wf_pair.get(i))\n",
    "print(threshold_features)\n",
    "print('-'*120)\n",
    "print(\"Number of Multi Collinear features are \"+str(len(threshold_features)))\n"
   ]
  },
  {
   "cell_type": "markdown",
   "metadata": {},
   "source": [
    "##  Logistic Regression on TFIDF<font color='red'> SET 2</font>"
   ]
  },
  {
   "cell_type": "code",
   "execution_count": 66,
   "metadata": {},
   "outputs": [
    {
     "name": "stdout",
     "output_type": "stream",
     "text": [
      "After transform\n",
      "====================================================================================================\n",
      "(56250, 33387) (56250,)\n",
      "(18750, 33387) (18750,)\n",
      "(25000, 33387) (25000,)\n"
     ]
    }
   ],
   "source": [
    "tf_idf_vect = TfidfVectorizer(ngram_range=(1,2), min_df=10)\n",
    "tf_idf_vect.fit(xTrain)\n",
    "xTrain_tfidf=tf_idf_vect.transform(xTrain)\n",
    "xCV_tfidf=tf_idf_vect.transform(xCV)\n",
    "xTest_tfidf=tf_idf_vect.transform(xTest)\n",
    "print(\"After transform\")\n",
    "print('='*100)\n",
    "print(xTrain_tfidf.shape, yTrain.shape)\n",
    "print(xCV_tfidf.shape, yCV.shape)\n",
    "print(xTest_tfidf.shape, yTest.shape)"
   ]
  },
  {
   "cell_type": "markdown",
   "metadata": {},
   "source": [
    "### Applying Logistic Regression with L1 regularization on TFIDF,<font color='red'> SET 2</font>"
   ]
  },
  {
   "cell_type": "code",
   "execution_count": 67,
   "metadata": {},
   "outputs": [
    {
     "name": "stderr",
     "output_type": "stream",
     "text": [
      "100%|████████████████████████████████████████████████████████████████████████████████████| 9/9 [00:08<00:00,  1.43s/it]\n"
     ]
    }
   ],
   "source": [
    "# Please write all the code with proper documentation\n",
    "from sklearn.linear_model import LogisticRegression\n",
    "from sklearn.model_selection import GridSearchCV, RandomizedSearchCV\n",
    "from sklearn.metrics import roc_auc_score\n",
    "\n",
    "c_values = [0.00001, 0.0001, 0.001, 0.01, 0.1, 1, 10, 100, 1000]\n",
    "AUC_tfidf_Train = []\n",
    "AUC_tfidf_CV = []\n",
    "\n",
    "#Logistic Regression Classifier with L1 regularization on c values\n",
    "for i in tqdm(c_values):\n",
    "    clf = LogisticRegression(C = i, penalty='l1', class_weight = 'balanced')\n",
    "    clf.fit(xTrain_tfidf, yTrain)\n",
    "\n",
    "    #Predicting probability of positive class\n",
    "    #here predict_proba outputs 2 values: 1st-probability of getting class 0, 2nd-probability of getting class 1\n",
    "    #we are slicing 2nd value\n",
    "    Y_train_pred2 =  clf.predict_proba(xTrain_tfidf)[:,1]\n",
    "    Y_cv_pred2 =  clf.predict_proba(xCV_tfidf)[:,1]\n",
    "    \n",
    "    #Calculation of ROC-AUC score on both train and-cross validate data\n",
    "    AUC_tfidf_Train.append(roc_auc_score(yTrain,Y_train_pred2))\n",
    "    AUC_tfidf_CV.append(roc_auc_score(yCV, Y_cv_pred2))"
   ]
  },
  {
   "cell_type": "code",
   "execution_count": 68,
   "metadata": {},
   "outputs": [
    {
     "data": {
      "image/png": "[encoded data removed]",
      "text/plain": [
       "<Figure size 432x288 with 1 Axes>"
      ]
     },
     "metadata": {
      "needs_background": "light"
     },
     "output_type": "display_data"
    }
   ],
   "source": [
    "plt.plot(c_values, AUC_tfidf_Train, label='Train AUC L1')\n",
    "plt.plot(c_values, AUC_tfidf_CV, label='CV AUC L1')\n",
    "\n",
    "plt.scatter(c_values, AUC_tfidf_Train, label='Train AUC L1')\n",
    "plt.scatter(c_values, AUC_tfidf_CV, label='CV AUC L1')\n",
    "plt.xscale('log')\n",
    "\n",
    "plt.legend()\n",
    "plt.xlabel(\"C - Values\")\n",
    "plt.ylabel(\"AUC\")\n",
    "plt.title(\"Error Plots on TF-IDF - Logistic Regression - L1 regularization\")\n",
    "plt.show()"
   ]
  },
  {
   "cell_type": "code",
   "execution_count": 69,
   "metadata": {},
   "outputs": [],
   "source": [
    "#Logistic Regression on test data with optimal c = 10\n",
    "optimal_l1_tf = LogisticRegression(C = 10, penalty='l1', class_weight = 'balanced')\n",
    "optimal_l1_tf.fit(xTrain_tfidf, yTrain)\n",
    "predict_tfidf_prob = optimal_l1_tf.predict_proba(xTest_tfidf)[:,1]\n",
    "Train_predict_tfidf = optimal_l1_tf.predict_proba(xTrain_tfidf)[:,1]\n",
    "predict_tfidf_class = optimal_l1_tf.predict(xTest_tfidf)\n",
    "predict_testdata_TFIDF = optimal_l1_tf.predict(xTrain_tfidf)"
   ]
  },
  {
   "cell_type": "code",
   "execution_count": 70,
   "metadata": {},
   "outputs": [
    {
     "data": {
      "image/png": "[encoded data removed]",
      "text/plain": [
       "<Figure size 432x288 with 1 Axes>"
      ]
     },
     "metadata": {
      "needs_background": "light"
     },
     "output_type": "display_data"
    }
   ],
   "source": [
    "from sklearn.metrics import roc_curve, auc\n",
    "Tr_FPR2, Tr_TPR2, tr2 = roc_curve(yTrain, Train_predict_tfidf)\n",
    "Te_FPR2, Te_TPR2, te2 = roc_curve(yTest, predict_tfidf_prob)\n",
    "\n",
    "plt.plot(Tr_FPR2, Tr_TPR2, label=\"Train AUC L1 =\"+str(auc(Tr_FPR2, Tr_TPR2)))\n",
    "plt.plot(Te_FPR2, Te_TPR2, label=\"Test AUC L1 =\"+str(auc(Te_FPR2, Te_TPR2)))\n",
    "plt.legend()\n",
    "plt.xlabel(\"FPR\")\n",
    "plt.ylabel(\"TPR\")\n",
    "plt.title(\"Comparision of ROC curves for TF-IDF using Logistic Regression L1\")\n",
    "plt.show()"
   ]
  },
  {
   "cell_type": "code",
   "execution_count": 71,
   "metadata": {},
   "outputs": [
    {
     "data": {
      "text/plain": [
       "Text(32.99999999999999, 0.5, 'Actual Values')"
      ]
     },
     "execution_count": 71,
     "metadata": {},
     "output_type": "execute_result"
    },
    {
     "data": {
      "image/png": "[encoded data removed]",
      "text/plain": [
       "<Figure size 432x288 with 2 Axes>"
      ]
     },
     "metadata": {
      "needs_background": "light"
     },
     "output_type": "display_data"
    }
   ],
   "source": [
    "# source for heat map: https://stackoverflow.com/a/37790707\n",
    "conf_matrix = confusion_matrix(yTrain, predict_testdata_TFIDF)\n",
    "class_label = [\"Negative (or) 0\" , \"Positive (or) 1\"]\n",
    "df_conf_matrix = pd.DataFrame(conf_matrix, index=class_label, columns=class_label)\n",
    "sns.heatmap(df_conf_matrix, annot=True, fmt='d', cmap=\"YlGnBu\")\n",
    "plt.title(\"Confusion Matrix for Logistic Regression - L1 Regularization using TFIDF on TRAIN DATA\")\n",
    "plt.xlabel(\"Predicted Values\")\n",
    "plt.ylabel(\"Actual Values\")\n"
   ]
  },
  {
   "cell_type": "code",
   "execution_count": 125,
   "metadata": {},
   "outputs": [
    {
     "data": {
      "text/plain": [
       "Text(32.99999999999999, 0.5, 'Actual Values')"
      ]
     },
     "execution_count": 125,
     "metadata": {},
     "output_type": "execute_result"
    },
    {
     "data": {
      "image/png": "[encoded data removed]",
      "text/plain": [
       "<Figure size 432x288 with 2 Axes>"
      ]
     },
     "metadata": {
      "needs_background": "light"
     },
     "output_type": "display_data"
    }
   ],
   "source": [
    "# source for heat map: https://stackoverflow.com/a/37790707\n",
    "conf_matrix = confusion_matrix(yTest, predict_tfidf_class)\n",
    "class_label = [\"Negative (or) 0\" , \"Positive (or) 1\"]\n",
    "df_conf_matrix = pd.DataFrame(conf_matrix, index=class_label, columns=class_label)\n",
    "sns.heatmap(df_conf_matrix, annot=True, fmt='d')\n",
    "plt.title(\"Confusion Matrix for Logistic Regression 'L1' using TF-IDF on TEST DATA\")\n",
    "plt.xlabel(\"Predicted Values\")\n",
    "plt.ylabel(\"Actual Values\")"
   ]
  },
  {
   "cell_type": "markdown",
   "metadata": {},
   "source": [
    "### Applying Logistic Regression with L2 regularization on TFIDF,<font color='red'> SET 2</font>"
   ]
  },
  {
   "cell_type": "code",
   "execution_count": 73,
   "metadata": {},
   "outputs": [
    {
     "name": "stderr",
     "output_type": "stream",
     "text": [
      "100%|████████████████████████████████████████████████████████████████████████████████████| 9/9 [00:16<00:00,  3.23s/it]\n"
     ]
    }
   ],
   "source": [
    "# Please write all the code with proper documentation\n",
    "from sklearn.linear_model import LogisticRegression\n",
    "from sklearn.model_selection import GridSearchCV, RandomizedSearchCV\n",
    "from sklearn.metrics import roc_auc_score\n",
    "\n",
    "c_values = [0.00001, 0.0001, 0.001, 0.01, 0.1, 1, 10, 100, 1000]\n",
    "AUC_tfidf_Train = []\n",
    "AUC_tfidf_CV = []\n",
    "\n",
    "#Logistic Regression Classifier with L1 regularization on c values\n",
    "for i in tqdm(c_values):\n",
    "    clf = LogisticRegression(C = i, penalty='l2', class_weight = 'balanced')\n",
    "    clf.fit(xTrain_tfidf, yTrain)\n",
    "\n",
    "    #Predicting probability of positive class\n",
    "    #here predict_proba outputs 2 values: 1st-probability of getting class 0, 2nd-probability of getting class 1\n",
    "    #we are slicing 2nd value\n",
    "    Y_train_pred2 =  clf.predict_proba(xTrain_tfidf)[:,1]\n",
    "    Y_cv_pred2 =  clf.predict_proba(xCV_tfidf)[:,1]\n",
    "    \n",
    "    #Calculation of ROC-AUC score on both train and-cross validate data\n",
    "    AUC_tfidf_Train.append(roc_auc_score(yTrain,Y_train_pred2))\n",
    "    AUC_tfidf_CV.append(roc_auc_score(yCV, Y_cv_pred2))"
   ]
  },
  {
   "cell_type": "code",
   "execution_count": 74,
   "metadata": {},
   "outputs": [
    {
     "data": {
      "image/png": "[encoded data removed]",
      "text/plain": [
       "<Figure size 432x288 with 1 Axes>"
      ]
     },
     "metadata": {
      "needs_background": "light"
     },
     "output_type": "display_data"
    }
   ],
   "source": [
    "plt.plot(c_values, AUC_tfidf_Train, label='Train AUC L2')\n",
    "plt.plot(c_values, AUC_tfidf_CV, label='CV AUC L2')\n",
    "\n",
    "plt.scatter(c_values, AUC_tfidf_Train, label='Train AUC L2')\n",
    "plt.scatter(c_values, AUC_tfidf_CV, label='CV AUC L2')\n",
    "plt.xscale('log')\n",
    "\n",
    "plt.legend()\n",
    "plt.xlabel(\"C - Values\")\n",
    "plt.ylabel(\"AUC\")\n",
    "plt.title(\"Error Plots on TF-IDF - Logistic Regression - L2 regularization\")\n",
    "plt.show()"
   ]
  },
  {
   "cell_type": "code",
   "execution_count": 75,
   "metadata": {},
   "outputs": [],
   "source": [
    "#Logistic Regression on test data with optimal c = 10\n",
    "optimal_l2_tf = LogisticRegression(C = 10, penalty='l2', class_weight = 'balanced')\n",
    "optimal_l2_tf.fit(xTrain_tfidf, yTrain)\n",
    "predict_tfidf_prob = optimal_l2_tf.predict_proba(xTest_tfidf)[:,1]\n",
    "Train_predict_tfidf = optimal_l2_tf.predict_proba(xTrain_tfidf)[:,1]\n",
    "predict_tfidf_class = optimal_l2_tf.predict(xTest_tfidf)\n",
    "predict_testdata_TFIDF2 = optimal_l2_tf.predict(xTrain_tfidf)"
   ]
  },
  {
   "cell_type": "code",
   "execution_count": 76,
   "metadata": {},
   "outputs": [
    {
     "data": {
      "image/png": "[encoded data removed]",
      "text/plain": [
       "<Figure size 432x288 with 1 Axes>"
      ]
     },
     "metadata": {
      "needs_background": "light"
     },
     "output_type": "display_data"
    }
   ],
   "source": [
    "from sklearn.metrics import roc_curve, auc\n",
    "Tr_FPR2, Tr_TPR2, tr2 = roc_curve(yTrain, Train_predict_tfidf)\n",
    "Te_FPR2, Te_TPR2, te2 = roc_curve(yTest, predict_tfidf_prob)\n",
    "\n",
    "plt.plot(Tr_FPR2, Tr_TPR2, label=\"Train AUC L2 = \"+str(auc(Tr_FPR2, Tr_TPR2)))\n",
    "plt.plot(Te_FPR2, Te_TPR2, label=\"Test AUC L2 = \"+str(auc(Te_FPR2, Te_TPR2)))\n",
    "plt.legend()\n",
    "plt.xlabel(\"FPR\")\n",
    "plt.ylabel(\"TPR\")\n",
    "plt.title(\"Comparision of ROC curves for TF-IDF using Logistic Regression L2\")\n",
    "plt.show()"
   ]
  },
  {
   "cell_type": "code",
   "execution_count": 77,
   "metadata": {},
   "outputs": [
    {
     "data": {
      "text/plain": [
       "Text(32.99999999999999, 0.5, 'Actual Values')"
      ]
     },
     "execution_count": 77,
     "metadata": {},
     "output_type": "execute_result"
    },
    {
     "data": {
      "image/png": "[encoded data removed]",
      "text/plain": [
       "<Figure size 432x288 with 2 Axes>"
      ]
     },
     "metadata": {
      "needs_background": "light"
     },
     "output_type": "display_data"
    }
   ],
   "source": [
    "# source for heat map: https://stackoverflow.com/a/37790707\n",
    "conf_matrix = confusion_matrix(yTrain, predict_testdata_TFIDF2)\n",
    "class_label = [\"Negative (or) 0\" , \"Positive (or) 1\"]\n",
    "df_conf_matrix = pd.DataFrame(conf_matrix, index=class_label, columns=class_label)\n",
    "sns.heatmap(df_conf_matrix, annot=True, fmt='d', cmap=\"YlGnBu\")\n",
    "plt.title(\"Confusion Matrix for Logistic Regression - L2 Regularization using TFIDF on TRAIN DATA\")\n",
    "plt.xlabel(\"Predicted Values\")\n",
    "plt.ylabel(\"Actual Values\")"
   ]
  },
  {
   "cell_type": "code",
   "execution_count": 78,
   "metadata": {},
   "outputs": [
    {
     "data": {
      "text/plain": [
       "Text(32.99999999999999, 0.5, 'Actual Values')"
      ]
     },
     "execution_count": 78,
     "metadata": {},
     "output_type": "execute_result"
    },
    {
     "data": {
      "image/png": "[encoded data removed]",
      "text/plain": [
       "<Figure size 432x288 with 2 Axes>"
      ]
     },
     "metadata": {
      "needs_background": "light"
     },
     "output_type": "display_data"
    }
   ],
   "source": [
    "# source for heat map: https://stackoverflow.com/a/37790707\n",
    "conf_matrix = confusion_matrix(yTest, predict_tfidf_class)\n",
    "class_label = [\"Negative (or) 0\" , \"Positive (or) 1\"]\n",
    "df_conf_matrix = pd.DataFrame(conf_matrix, index=class_label, columns=class_label)\n",
    "sns.heatmap(df_conf_matrix, annot=True, fmt='d')\n",
    "plt.title(\"Confusion Matrix for Logistic Regression 'L2' using TF-IDF on TEST DATA\")\n",
    "plt.xlabel(\"Predicted Values\")\n",
    "plt.ylabel(\"Actual Values\")"
   ]
  },
  {
   "cell_type": "markdown",
   "metadata": {},
   "source": [
    "###  Feature Importance on TFIDF,<font color='red'> SET 2</font>"
   ]
  },
  {
   "cell_type": "markdown",
   "metadata": {},
   "source": [
    "### Top 10 important features from<font color='red'> SET 2</font>\n",
    "\n"
   ]
  },
  {
   "cell_type": "code",
   "execution_count": 79,
   "metadata": {},
   "outputs": [
    {
     "name": "stdout",
     "output_type": "stream",
     "text": [
      "Top 10 positive features\n",
      "\n",
      "[(10.210140798804055, 'quote'), (10.243370041572426, 'correctable'), (10.459724560625833, 'fus'), (10.943049172120283, 'jj'), (11.329396752495743, 'garveys'), (12.027635038966846, 'dollats'), (12.618996303388286, 'assemble'), (13.511915746252617, 'hopeing'), (14.00777947399983, 'chiou'), (16.030805870143478, 'duplication')]\n",
      "\n",
      "____________________________________________________________________________________________________\n",
      "\n",
      "Top 10 negative features\n",
      "\n",
      "[(-14.576154062968902, 'rake'), (-13.880806818979048, 'civilizations'), (-13.323863980982209, 'clash'), (-13.106611795003174, 'ilk'), (-12.404828006068913, 'hotter'), (-11.898178704800582, 'parma'), (-11.848061295108497, 'eponymous'), (-10.762627404138899, 'hydrocloride'), (-10.669730082603254, 'hockey'), (-10.618669599075307, 'anniv')]\n"
     ]
    }
   ],
   "source": [
    "#Source https://www.programcreek.com/python/example/81062/sklearn.datasets.load_iris\n",
    "#Calculating the weight vector for the classifier\n",
    "weights_tfidf = optimal_l2_tf.coef_\n",
    "\n",
    "#Pairing the weights and features\n",
    "wght_ftr_pair = dict()\n",
    "feature_names = count_vect.get_feature_names()\n",
    "for weight, feature in zip(weights_tfidf[0], feature_names):\n",
    "    wght_ftr_pair[weight] = feature\n",
    "\n",
    "#Printing top features\n",
    "print(\"Top 10 positive features\")\n",
    "print()\n",
    "positive = sorted(zip(weights_tfidf[0], feature_names))\n",
    "print(positive[-10:])\n",
    "print()\n",
    "print('_'*100)\n",
    "print()\n",
    "print(\"Top 10 negative features\")\n",
    "print()\n",
    "negative = sorted(zip(weights_tfidf[0], feature_names))\n",
    "print(negative[:10])\n"
   ]
  },
  {
   "cell_type": "markdown",
   "metadata": {},
   "source": [
    "## Logistic Regression on AVG W2V<font color='red'> SET 3</font>\n"
   ]
  },
  {
   "cell_type": "code",
   "execution_count": 80,
   "metadata": {},
   "outputs": [
    {
     "name": "stdout",
     "output_type": "stream",
     "text": [
      "number of words that occured minimum 5 times  15056\n",
      "sample words  ['remember', 'seeing', 'show', 'television', 'years', 'ago', 'child', 'sister', 'later', 'bought', 'day', 'thirty', 'something', 'used', 'series', 'books', 'songs', 'student', 'teaching', 'turned', 'whole', 'school', 'purchasing', 'cd', 'along', 'children', 'tradition', 'lives', 'twist', 'captured', 'film', 'starring', 'michael', 'keaton', 'geena', 'davis', 'prime', 'tim', 'burton', 'masterpiece', 'wonderfully', 'point', 'not', 'dull', 'moment', 'always', 'enjoyed', 'movie', 'funny', 'entertaining']\n"
     ]
    }
   ],
   "source": [
    "# Train your own Word2Vec model using your own text corpus\n",
    "#-------------------TRAIN DATA----------------#\n",
    "i=0\n",
    "list_of_sentance_train=[]\n",
    "for sentance in xTrain:\n",
    "    list_of_sentance_train.append(sentance.split())\n",
    "    \n",
    "w2v_model=Word2Vec(list_of_sentance_train,min_count=5,size=50, workers=4)\n",
    "\n",
    "w2v_words = list(w2v_model.wv.vocab)\n",
    "print(\"number of words that occured minimum 5 times \",len(w2v_words))\n",
    "print(\"sample words \", w2v_words[0:50])"
   ]
  },
  {
   "cell_type": "code",
   "execution_count": 81,
   "metadata": {},
   "outputs": [
    {
     "name": "stderr",
     "output_type": "stream",
     "text": [
      "100%|███████████████████████████████████████████████████████████████████████████| 56250/56250 [03:13<00:00, 290.94it/s]\n"
     ]
    },
    {
     "name": "stdout",
     "output_type": "stream",
     "text": [
      "56250\n",
      "50\n"
     ]
    }
   ],
   "source": [
    "# average Word2Vec\n",
    "# compute average word2vec for each review.\n",
    "sent_vectors_train = []; # the avg-w2v for each sentence/review is stored in this list\n",
    "for sent in tqdm(list_of_sentance_train): # for each review/sentence\n",
    "    sent_vec = np.zeros(50) # as word vectors are of zero length 50, you might need to change this to 300 if you use google's w2v\n",
    "    cnt_words =0; # num of words with a valid vector in the sentence/review\n",
    "    for word in sent: # for each word in a review/sentence\n",
    "        if word in w2v_words:\n",
    "            vec = w2v_model.wv[word]\n",
    "            sent_vec += vec\n",
    "            cnt_words += 1\n",
    "    if cnt_words != 0:\n",
    "        sent_vec /= cnt_words\n",
    "    sent_vectors_train.append(sent_vec)\n",
    "print(len(sent_vectors_train))\n",
    "print(len(sent_vectors_train[0]))"
   ]
  },
  {
   "cell_type": "code",
   "execution_count": 82,
   "metadata": {},
   "outputs": [
    {
     "name": "stderr",
     "output_type": "stream",
     "text": [
      "100%|███████████████████████████████████████████████████████████████████████████| 18750/18750 [01:00<00:00, 311.86it/s]\n"
     ]
    },
    {
     "name": "stdout",
     "output_type": "stream",
     "text": [
      "18750\n",
      "50\n"
     ]
    }
   ],
   "source": [
    "# Train your own Word2Vec model using your own text corpus\n",
    "#-------------------CROSS-VALIDATION DATA----------------#\n",
    "i=0\n",
    "list_of_sentance_cv=[]\n",
    "for sentance in xCV:\n",
    "    list_of_sentance_cv.append(sentance.split())\n",
    "    \n",
    "\n",
    "# average Word2Vec\n",
    "# compute average word2vec for each review.\n",
    "sent_vectors_cv = []; # the avg-w2v for each sentence/review is stored in this list\n",
    "for sent in tqdm(list_of_sentance_cv): # for each review/sentence\n",
    "    sent_vec = np.zeros(50) # as word vectors are of zero length 50, you might need to change this to 300 if you use google's w2v\n",
    "    cnt_words =0; # num of words with a valid vector in the sentence/review\n",
    "    for word in sent: # for each word in a review/sentence\n",
    "        if word in w2v_words:\n",
    "            vec = w2v_model.wv[word]\n",
    "            sent_vec += vec\n",
    "            cnt_words += 1\n",
    "    if cnt_words != 0:\n",
    "        sent_vec /= cnt_words\n",
    "    sent_vectors_cv.append(sent_vec)\n",
    "print(len(sent_vectors_cv))\n",
    "print(len(sent_vectors_cv[0]))"
   ]
  },
  {
   "cell_type": "code",
   "execution_count": 83,
   "metadata": {},
   "outputs": [
    {
     "name": "stderr",
     "output_type": "stream",
     "text": [
      "100%|███████████████████████████████████████████████████████████████████████████| 25000/25000 [01:21<00:00, 307.29it/s]\n"
     ]
    },
    {
     "name": "stdout",
     "output_type": "stream",
     "text": [
      "25000\n",
      "50\n"
     ]
    }
   ],
   "source": [
    "# Train your own Word2Vec model using your own text corpus\n",
    "#-------------------TEST DATA----------------#\n",
    "i=0\n",
    "list_of_sentance_test=[]\n",
    "for sentance in xTest:\n",
    "    list_of_sentance_test.append(sentance.split())\n",
    "\n",
    "# average Word2Vec\n",
    "# compute average word2vec for each review.\n",
    "sent_vectors_test = []; # the avg-w2v for each sentence/review is stored in this list\n",
    "for sent in tqdm(list_of_sentance_test): # for each review/sentence\n",
    "    sent_vec = np.zeros(50) # as word vectors are of zero length 50, you might need to change this to 300 if you use google's w2v\n",
    "    cnt_words =0; # num of words with a valid vector in the sentence/review\n",
    "    for word in sent: # for each word in a review/sentence\n",
    "        if word in w2v_words:\n",
    "            vec = w2v_model.wv[word]\n",
    "            sent_vec += vec\n",
    "            cnt_words += 1\n",
    "    if cnt_words != 0:\n",
    "        sent_vec /= cnt_words\n",
    "    sent_vectors_test.append(sent_vec)\n",
    "print(len(sent_vectors_test))\n",
    "print(len(sent_vectors_test[0]))"
   ]
  },
  {
   "cell_type": "markdown",
   "metadata": {},
   "source": [
    "### Applying Logistic Regression with L1 regularization on AVG W2V<font color='red'> SET 3</font>"
   ]
  },
  {
   "cell_type": "code",
   "execution_count": 84,
   "metadata": {},
   "outputs": [
    {
     "name": "stderr",
     "output_type": "stream",
     "text": [
      "100%|████████████████████████████████████████████████████████████████████████████████████| 8/8 [00:18<00:00,  3.09s/it]\n"
     ]
    }
   ],
   "source": [
    "# Please write all the code with proper documentation\n",
    "from sklearn.linear_model import LogisticRegression\n",
    "from sklearn.model_selection import GridSearchCV, RandomizedSearchCV\n",
    "from sklearn.metrics import roc_auc_score\n",
    "\n",
    "c_values = [0.00001, 0.0001, 0.001, 0.01, 0.1, 1, 10, 100]\n",
    "AUC_aw2v_Train = []\n",
    "AUC_aw2v_CV = []\n",
    "\n",
    "#Logistic Regression Classifier with L1 regularization on c values\n",
    "for i in tqdm(c_values):\n",
    "    clf = LogisticRegression(C = i, penalty='l1', class_weight = 'balanced')\n",
    "    clf.fit(sent_vectors_train, yTrain)\n",
    "\n",
    "    #Predicting probability of positive class\n",
    "    #here predict_proba outputs 2 values: 1st-probability of getting class 0, 2nd-probability of getting class 1\n",
    "    #we are slicing 2nd value    \n",
    "    Y_train_pred3 =  clf.predict_proba(sent_vectors_train)[:,1]\n",
    "    Y_cv_pred3 =  clf.predict_proba(sent_vectors_cv)[:,1]\n",
    "    \n",
    "    #Calculation of ROC-AUC score on both train and-cross validate data    \n",
    "    AUC_aw2v_Train.append(roc_auc_score(yTrain,Y_train_pred3))\n",
    "    AUC_aw2v_CV.append(roc_auc_score(yCV, Y_cv_pred3))"
   ]
  },
  {
   "cell_type": "code",
   "execution_count": 85,
   "metadata": {},
   "outputs": [
    {
     "data": {
      "image/png": "[encoded data removed]",
      "text/plain": [
       "<Figure size 432x288 with 1 Axes>"
      ]
     },
     "metadata": {
      "needs_background": "light"
     },
     "output_type": "display_data"
    }
   ],
   "source": [
    "plt.plot(c_values, AUC_aw2v_Train, label='Train AUC L1')\n",
    "plt.plot(c_values, AUC_aw2v_CV, label='CV AUC L1')\n",
    "\n",
    "plt.scatter(c_values, AUC_aw2v_Train, label='Train AUC L1')\n",
    "plt.scatter(c_values, AUC_aw2v_CV, label='CV AUC L1')\n",
    "plt.xscale('log')\n",
    "\n",
    "plt.legend()\n",
    "plt.xlabel(\"C Values\")\n",
    "plt.ylabel(\"AUC\")\n",
    "plt.title(\"Error Plots on Average Word2Vec - Logistic Regression - L1\")\n",
    "plt.show()"
   ]
  },
  {
   "cell_type": "code",
   "execution_count": 91,
   "metadata": {},
   "outputs": [],
   "source": [
    "#Logistic Regression on test data with optimal c = 0.1\n",
    "optimal_l1_w2v = LogisticRegression(C = 0.1, penalty='l1', class_weight = 'balanced')\n",
    "optimal_l1_w2v.fit(sent_vectors_train, yTrain)\n",
    "Train_predict_aw2v = optimal_l1_w2v.predict_proba(sent_vectors_train)[:,1]\n",
    "predict_aw2v_prob = optimal_l1_w2v.predict_proba(sent_vectors_test)[:,1]\n",
    "predict_aw2v_class = optimal_l1_w2v.predict(sent_vectors_test)\n",
    "predict_testdata_W2V = optimal_l1_w2v.predict(sent_vectors_train)"
   ]
  },
  {
   "cell_type": "code",
   "execution_count": 92,
   "metadata": {},
   "outputs": [
    {
     "data": {
      "image/png": "[encoded data removed]",
      "text/plain": [
       "<Figure size 432x288 with 1 Axes>"
      ]
     },
     "metadata": {
      "needs_background": "light"
     },
     "output_type": "display_data"
    }
   ],
   "source": [
    "Tr_FPR3, Tr_TPR3, tr3 = roc_curve(yTrain, Train_predict_aw2v)\n",
    "Te_FPR3, Te_TPR3, te3 = roc_curve(yTest, predict_aw2v_prob)\n",
    "\n",
    "plt.plot(Tr_FPR3, Tr_TPR3, label=\"Train AUC L1 = \"+str(auc(Tr_FPR3, Tr_TPR3)))\n",
    "plt.plot(Te_FPR3, Te_TPR3, label=\"Test AUC L1 = \"+str(auc(Te_FPR3, Te_TPR3)))\n",
    "plt.legend()\n",
    "plt.xlabel(\"FPR\")\n",
    "plt.ylabel(\"TPR\")\n",
    "plt.title(\"Comparision of ROC curves for Avg Word2Vec Logistic Regression L1\")\n",
    "plt.show()"
   ]
  },
  {
   "cell_type": "code",
   "execution_count": 93,
   "metadata": {},
   "outputs": [
    {
     "data": {
      "text/plain": [
       "Text(32.99999999999999, 0.5, 'Actual Values')"
      ]
     },
     "execution_count": 93,
     "metadata": {},
     "output_type": "execute_result"
    },
    {
     "data": {
      "image/png": "[encoded data removed]",
      "text/plain": [
       "<Figure size 432x288 with 2 Axes>"
      ]
     },
     "metadata": {
      "needs_background": "light"
     },
     "output_type": "display_data"
    }
   ],
   "source": [
    "\n",
    "# source for heat map: https://stackoverflow.com/a/37790707\n",
    "conf_matrix = confusion_matrix(yTrain, predict_testdata_W2V)\n",
    "class_label = [\"Negative (or) 0\" , \"Positive (or) 1\"]\n",
    "df_conf_matrix = pd.DataFrame(conf_matrix, index=class_label, columns=class_label)\n",
    "sns.heatmap(df_conf_matrix, annot=True, fmt='d', cmap=\"YlGnBu\")\n",
    "plt.title(\"Confusion Matrix for Logistic Regression - L1 Regularization using W2V on TRAIN DATA\")\n",
    "plt.xlabel(\"Predicted Values\")\n",
    "plt.ylabel(\"Actual Values\")\n"
   ]
  },
  {
   "cell_type": "code",
   "execution_count": 126,
   "metadata": {},
   "outputs": [
    {
     "data": {
      "text/plain": [
       "Text(32.99999999999999, 0.5, 'Actual Values')"
      ]
     },
     "execution_count": 126,
     "metadata": {},
     "output_type": "execute_result"
    },
    {
     "data": {
      "image/png": "[encoded data removed]",
      "text/plain": [
       "<Figure size 432x288 with 2 Axes>"
      ]
     },
     "metadata": {
      "needs_background": "light"
     },
     "output_type": "display_data"
    }
   ],
   "source": [
    "# source for heat map: https://stackoverflow.com/a/37790707\n",
    "conf_matrix = confusion_matrix(yTest, predict_aw2v_class)\n",
    "class_label = [\"Negative (or) 0\" , \"Positive (or) 1\"]\n",
    "df_conf_matrix = pd.DataFrame(conf_matrix, index=class_label, columns=class_label)\n",
    "sns.heatmap(df_conf_matrix, annot=True, fmt='d')\n",
    "plt.title(\"Confusion Matrix for Logistic Regression L1 using Avg Word2Vec on TEST DATA\")\n",
    "plt.xlabel(\"Predicted Values\")\n",
    "plt.ylabel(\"Actual Values\")"
   ]
  },
  {
   "cell_type": "markdown",
   "metadata": {},
   "source": [
    "### Applying Logistic Regression with L2 regularization on AVG W2V,<font color='red'> SET 3</font>"
   ]
  },
  {
   "cell_type": "code",
   "execution_count": 95,
   "metadata": {},
   "outputs": [
    {
     "name": "stderr",
     "output_type": "stream",
     "text": [
      "100%|████████████████████████████████████████████████████████████████████████████████████| 8/8 [00:08<00:00,  1.25s/it]\n"
     ]
    }
   ],
   "source": [
    "# Please write all the code with proper documentation\n",
    "from sklearn.linear_model import LogisticRegression\n",
    "from sklearn.model_selection import GridSearchCV, RandomizedSearchCV\n",
    "from sklearn.metrics import roc_auc_score\n",
    "\n",
    "c_values = [0.00001, 0.0001, 0.001, 0.01, 0.1, 1, 10, 100]\n",
    "AUC_aw2v_Train = []\n",
    "AUC_aw2v_CV = []\n",
    "\n",
    "#Logistic Regression Classifier with L1 regularization on c values\n",
    "for i in tqdm(c_values):\n",
    "    clf = LogisticRegression(C = i, penalty='l2', class_weight = 'balanced')\n",
    "    clf.fit(sent_vectors_train, yTrain)\n",
    "\n",
    "    #Predicting probability of positive class\n",
    "    #here predict_proba outputs 2 values: 1st-probability of getting class 0, 2nd-probability of getting class 1\n",
    "    #we are slicing 2nd value    \n",
    "    Y_train_pred3 =  clf.predict_proba(sent_vectors_train)[:,1]\n",
    "    Y_cv_pred3 =  clf.predict_proba(sent_vectors_cv)[:,1]\n",
    "    \n",
    "    #Calculation of ROC-AUC score on both train and-cross validate data    \n",
    "    AUC_aw2v_Train.append(roc_auc_score(yTrain,Y_train_pred3))\n",
    "    AUC_aw2v_CV.append(roc_auc_score(yCV, Y_cv_pred3))"
   ]
  },
  {
   "cell_type": "code",
   "execution_count": 96,
   "metadata": {},
   "outputs": [
    {
     "data": {
      "image/png": "[encoded data removed]",
      "text/plain": [
       "<Figure size 432x288 with 1 Axes>"
      ]
     },
     "metadata": {
      "needs_background": "light"
     },
     "output_type": "display_data"
    }
   ],
   "source": [
    "plt.plot(c_values, AUC_aw2v_Train, label='Train AUC L2')\n",
    "plt.plot(c_values, AUC_aw2v_CV, label='CV AUC L2')\n",
    "\n",
    "plt.scatter(c_values, AUC_aw2v_Train, label='Train AUC L2')\n",
    "plt.scatter(c_values, AUC_aw2v_CV, label='CV AUC L2')\n",
    "plt.xscale('log')\n",
    "\n",
    "plt.legend()\n",
    "plt.xlabel(\"C Values\")\n",
    "plt.ylabel(\"AUC\")\n",
    "plt.title(\"Error Plots on Average Word2Vec - Logistic Regression - L2\")\n",
    "plt.show()"
   ]
  },
  {
   "cell_type": "code",
   "execution_count": 98,
   "metadata": {},
   "outputs": [],
   "source": [
    "#Logistic Regression on test data with optimal c = 1\n",
    "optimal_l1_w2v = LogisticRegression(C = 1, penalty='l2', class_weight = 'balanced')\n",
    "optimal_l1_w2v.fit(sent_vectors_train, yTrain)\n",
    "Train_predict_aw2v = optimal_l1_w2v.predict_proba(sent_vectors_train)[:,1]\n",
    "predict_aw2v_prob = optimal_l1_w2v.predict_proba(sent_vectors_test)[:,1]\n",
    "predict_aw2v_class = optimal_l1_w2v.predict(sent_vectors_test)\n",
    "predict_testdata_W2v2 = optimal_l1_w2v.predict(sent_vectors_train)"
   ]
  },
  {
   "cell_type": "code",
   "execution_count": 99,
   "metadata": {},
   "outputs": [
    {
     "data": {
      "image/png": "[encoded data removed]",
      "text/plain": [
       "<Figure size 432x288 with 1 Axes>"
      ]
     },
     "metadata": {
      "needs_background": "light"
     },
     "output_type": "display_data"
    }
   ],
   "source": [
    "Tr_FPR3, Tr_TPR3, tr3 = roc_curve(yTrain, Train_predict_aw2v)\n",
    "Te_FPR3, Te_TPR3, te3 = roc_curve(yTest, predict_aw2v_prob)\n",
    "\n",
    "plt.plot(Tr_FPR3, Tr_TPR3, label=\"Train AUC L2 = \"+str(auc(Tr_FPR3, Tr_TPR3)))\n",
    "plt.plot(Te_FPR3, Te_TPR3, label=\"Test AUC L2 = \"+str(auc(Te_FPR3, Te_TPR3)))\n",
    "plt.legend()\n",
    "plt.xlabel(\"FPR\")\n",
    "plt.ylabel(\"TPR\")\n",
    "plt.title(\"Comparision of ROC curves for Avg Word2Vec Logistic Regression L2\")\n",
    "plt.show()"
   ]
  },
  {
   "cell_type": "code",
   "execution_count": 100,
   "metadata": {},
   "outputs": [
    {
     "data": {
      "text/plain": [
       "Text(32.99999999999999, 0.5, 'Actual Values')"
      ]
     },
     "execution_count": 100,
     "metadata": {},
     "output_type": "execute_result"
    },
    {
     "data": {
      "image/png": "[encoded data removed]",
      "text/plain": [
       "<Figure size 432x288 with 2 Axes>"
      ]
     },
     "metadata": {
      "needs_background": "light"
     },
     "output_type": "display_data"
    }
   ],
   "source": [
    "# source for heat map: https://stackoverflow.com/a/37790707\n",
    "conf_matrix = confusion_matrix(yTrain, predict_testdata_W2v2)\n",
    "class_label = [\"Negative (or) 0\" , \"Positive (or) 1\"]\n",
    "df_conf_matrix = pd.DataFrame(conf_matrix, index=class_label, columns=class_label)\n",
    "sns.heatmap(df_conf_matrix, annot=True, fmt='d', cmap=\"YlGnBu\")\n",
    "plt.title(\"Confusion Matrix for Logistic Regression - L2 Regularization using Avg W2V on TRAIN DATA\")\n",
    "plt.xlabel(\"Predicted Values\")\n",
    "plt.ylabel(\"Actual Values\")\n"
   ]
  },
  {
   "cell_type": "code",
   "execution_count": 101,
   "metadata": {},
   "outputs": [
    {
     "data": {
      "text/plain": [
       "Text(32.99999999999999, 0.5, 'Actual Values')"
      ]
     },
     "execution_count": 101,
     "metadata": {},
     "output_type": "execute_result"
    },
    {
     "data": {
      "image/png": "[encoded data removed]",
      "text/plain": [
       "<Figure size 432x288 with 2 Axes>"
      ]
     },
     "metadata": {
      "needs_background": "light"
     },
     "output_type": "display_data"
    }
   ],
   "source": [
    "# source for heat map: https://stackoverflow.com/a/37790707\n",
    "conf_matrix = confusion_matrix(yTest, predict_aw2v_class)\n",
    "class_label = [\"Negative (or) 0\" , \"Positive (or) 1\"]\n",
    "df_conf_matrix = pd.DataFrame(conf_matrix, index=class_label, columns=class_label)\n",
    "sns.heatmap(df_conf_matrix, annot=True, fmt='d')\n",
    "plt.title(\"Confusion Matrix for Logistic Regression L2 using Avg Word2Vec on TEST DATA\")\n",
    "plt.xlabel(\"Predicted Values\")\n",
    "plt.ylabel(\"Actual Values\")"
   ]
  },
  {
   "cell_type": "markdown",
   "metadata": {},
   "source": [
    "##  Logistic Regression on TFIDF W2V,<font color='red'> SET 4</font>"
   ]
  },
  {
   "cell_type": "code",
   "execution_count": 102,
   "metadata": {},
   "outputs": [],
   "source": [
    "model = TfidfVectorizer()\n",
    "tf_idf_matrix = model.fit_transform(xTrain)\n",
    "# we are converting a dictionary with word as a key, and the idf as a value\n",
    "dictionary = dict(zip(model.get_feature_names(), list(model.idf_)))"
   ]
  },
  {
   "cell_type": "code",
   "execution_count": 103,
   "metadata": {},
   "outputs": [
    {
     "name": "stderr",
     "output_type": "stream",
     "text": [
      "100%|████████████████████████████████████████████████████████████████████████████| 56250/56250 [40:52<00:00, 22.94it/s]\n"
     ]
    }
   ],
   "source": [
    "#------------------------TF-IDF Word2Vec----------------\n",
    "#-------------------------TRAIN DATA--------------------\n",
    "i=0\n",
    "list_of_sentance_train=[]\n",
    "for sentance in xTrain:\n",
    "    list_of_sentance_train.append(sentance.split())\n",
    "    \n",
    "#TF-IDF weighted Word2Vec\n",
    "tfidf_feat = model.get_feature_names() # tfidf words/col-names\n",
    "# XXfinal_tf_idf is the sparse matrix with row= sentence, col=word and cell_val = tfidf\n",
    "\n",
    "tfidf_sent_vectors_train = []; # the tfidf-w2v for each sentence/review is stored in this list\n",
    "row=0;\n",
    "for sent in tqdm(list_of_sentance_train): # for each review/sentence \n",
    "    sent_vec = np.zeros(50) # as word vectors are of zero length\n",
    "    weight_sum =0; # num of words with a valid vector in the sentence/review\n",
    "    for word in sent: # for each word in a review/sentence\n",
    "        if word in w2v_words and word in tfidf_feat:\n",
    "            vec = w2v_model.wv[word]\n",
    "#             tf_idf = tf_idf_matrix[row, tfidf_feat.index(word)]\n",
    "            # to reduce the computation we are \n",
    "            # dictionary[word] = idf value of word in whole courpus\n",
    "            # sent.count(word) = tf valeus of word in this review\n",
    "            tf_idf = dictionary[word]*(sent.count(word)/len(sent))\n",
    "            sent_vec += (vec * tf_idf)\n",
    "            weight_sum += tf_idf\n",
    "    if weight_sum != 0:\n",
    "        sent_vec /= weight_sum\n",
    "    tfidf_sent_vectors_train.append(sent_vec)\n",
    "    row += 1"
   ]
  },
  {
   "cell_type": "code",
   "execution_count": null,
   "metadata": {},
   "outputs": [],
   "source": []
  },
  {
   "cell_type": "code",
   "execution_count": 104,
   "metadata": {},
   "outputs": [
    {
     "name": "stderr",
     "output_type": "stream",
     "text": [
      "100%|████████████████████████████████████████████████████████████████████████████| 18750/18750 [27:59<00:00, 10.29it/s]\n"
     ]
    }
   ],
   "source": [
    "#------------------------TF-IDF Word2Vec----------------\n",
    "#---------------------CROSS VALIDATION DATA--------------------\n",
    "i=0\n",
    "list_of_sentance_cv=[]\n",
    "for sentance in xCV:\n",
    "    list_of_sentance_cv.append(sentance.split())\n",
    "    \n",
    "#TF-IDF weighted Word2Vec\n",
    "tfidf_feat = model.get_feature_names() # tfidf words/col-names\n",
    "# XXfinal_tf_idf is the sparse matrix with row= sentence, col=word and cell_val = tfidf\n",
    "\n",
    "tfidf_sent_vectors_cv = []; # the tfidf-w2v for each sentence/review is stored in this list\n",
    "row=0;\n",
    "for sent in tqdm(list_of_sentance_cv): # for each review/sentence \n",
    "    sent_vec = np.zeros(50) # as word vectors are of zero length\n",
    "    weight_sum =0; # num of words with a valid vector in the sentence/review\n",
    "    for word in sent: # for each word in a review/sentence\n",
    "        if word in w2v_words and word in tfidf_feat:\n",
    "            vec = w2v_model.wv[word]\n",
    "#             tf_idf = tf_idf_matrix[row, tfidf_feat.index(word)]\n",
    "            # to reduce the computation we are \n",
    "            # dictionary[word] = idf value of word in whole courpus\n",
    "            # sent.count(word) = tf valeus of word in this review\n",
    "            tf_idf = dictionary[word]*(sent.count(word)/len(sent))\n",
    "            sent_vec += (vec * tf_idf)\n",
    "            weight_sum += tf_idf\n",
    "    if weight_sum != 0:\n",
    "        sent_vec /= weight_sum\n",
    "    tfidf_sent_vectors_cv.append(sent_vec)\n",
    "    row += 1"
   ]
  },
  {
   "cell_type": "code",
   "execution_count": 105,
   "metadata": {},
   "outputs": [
    {
     "name": "stderr",
     "output_type": "stream",
     "text": [
      "100%|████████████████████████████████████████████████████████████████████████████| 25000/25000 [30:13<00:00, 13.79it/s]\n"
     ]
    }
   ],
   "source": [
    "#------------------------TF-IDF Word2Vec----------------\n",
    "#-------------------------Test DATA--------------------\n",
    "i=0\n",
    "list_of_sentance_test=[]\n",
    "for sentance in xTest:\n",
    "    list_of_sentance_test.append(sentance.split())\n",
    "    \n",
    "#TF-IDF weighted Word2Vec\n",
    "tfidf_feat = model.get_feature_names() # tfidf words/col-names\n",
    "# XXfinal_tf_idf is the sparse matrix with row= sentence, col=word and cell_val = tfidf\n",
    "\n",
    "tfidf_sent_vectors_test = []; # the tfidf-w2v for each sentence/review is stored in this list\n",
    "row=0;\n",
    "for sent in tqdm(list_of_sentance_test): # for each review/sentence \n",
    "    sent_vec = np.zeros(50) # as word vectors are of zero length\n",
    "    weight_sum =0; # num of words with a valid vector in the sentence/review\n",
    "    for word in sent: # for each word in a review/sentence\n",
    "        if word in w2v_words and word in tfidf_feat:\n",
    "            vec = w2v_model.wv[word]\n",
    "#             tf_idf = tf_idf_matrix[row, tfidf_feat.index(word)]\n",
    "            # to reduce the computation we are \n",
    "            # dictionary[word] = idf value of word in whole courpus\n",
    "            # sent.count(word) = tf valeus of word in this review\n",
    "            tf_idf = dictionary[word]*(sent.count(word)/len(sent))\n",
    "            sent_vec += (vec * tf_idf)\n",
    "            weight_sum += tf_idf\n",
    "    if weight_sum != 0:\n",
    "        sent_vec /= weight_sum\n",
    "    tfidf_sent_vectors_test.append(sent_vec)\n",
    "    row += 1"
   ]
  },
  {
   "cell_type": "markdown",
   "metadata": {},
   "source": [
    "### Applying Logistic Regression with L1 regularization on TFIDF W2V,<font color='red'> SET 4</font>"
   ]
  },
  {
   "cell_type": "code",
   "execution_count": 106,
   "metadata": {},
   "outputs": [
    {
     "name": "stderr",
     "output_type": "stream",
     "text": [
      "100%|████████████████████████████████████████████████████████████████████████████████████| 8/8 [00:15<00:00,  2.81s/it]\n"
     ]
    }
   ],
   "source": [
    "# Please write all the code with proper documentation\n",
    "from sklearn.linear_model import LogisticRegression\n",
    "from sklearn.model_selection import GridSearchCV, RandomizedSearchCV\n",
    "from sklearn.metrics import roc_auc_score\n",
    "\n",
    "c_values = [0.00001, 0.0001, 0.001, 0.01, 0.1, 1, 10, 100]\n",
    "AUC_tfidfw2v_Train = []\n",
    "AUC_tfidfw2v_CV = []\n",
    "\n",
    "#Logistic Regression Classifier with L1 regularization on c values\n",
    "for i in tqdm(c_values):\n",
    "    clf = LogisticRegression(C = i, penalty='l1', class_weight = 'balanced')\n",
    "    clf.fit(tfidf_sent_vectors_train, yTrain)\n",
    "\n",
    "    #Predicting probability of positive class\n",
    "    #here predict_proba outputs 2 values: 1st-probability of getting class 0, 2nd-probability of getting class 1\n",
    "    #we are slicing 2nd value    \n",
    "    Y_train_pred4 =  clf.predict_proba(tfidf_sent_vectors_train)[:,1]\n",
    "    Y_cv_pred4 =  clf.predict_proba(tfidf_sent_vectors_cv)[:,1]\n",
    "    \n",
    "    #Calculation of ROC-AUC score on both train and-cross validate data    \n",
    "    AUC_tfidfw2v_Train.append(roc_auc_score(yTrain,Y_train_pred4))\n",
    "    AUC_tfidfw2v_CV.append(roc_auc_score(yCV, Y_cv_pred4))\n",
    "    \n"
   ]
  },
  {
   "cell_type": "code",
   "execution_count": 107,
   "metadata": {},
   "outputs": [
    {
     "data": {
      "image/png": "[encoded data removed]",
      "text/plain": [
       "<Figure size 432x288 with 1 Axes>"
      ]
     },
     "metadata": {
      "needs_background": "light"
     },
     "output_type": "display_data"
    }
   ],
   "source": [
    "plt.plot(c_values, AUC_tfidfw2v_Train, label='Train AUC L1')\n",
    "plt.plot(c_values, AUC_tfidfw2v_CV, label='CV AUC L1')\n",
    "\n",
    "plt.scatter(c_values, AUC_tfidfw2v_Train, label='Train AUC L1')\n",
    "plt.scatter(c_values, AUC_tfidfw2v_CV, label='CV AUC L1')\n",
    "plt.xscale('log')\n",
    "\n",
    "plt.legend()\n",
    "plt.xlabel(\"C - Values\")\n",
    "plt.ylabel(\"AUC\")\n",
    "plt.title(\"Error Plots on TF-IDF Word2Vec - using Logistic Regression L1\")\n",
    "plt.show()"
   ]
  },
  {
   "cell_type": "code",
   "execution_count": 108,
   "metadata": {},
   "outputs": [],
   "source": [
    "#Logistic Regression on test data with optimal c = 0.1\n",
    "optimal_l1_at = LogisticRegression(C = 0.1, penalty='l1', class_weight = 'balanced')\n",
    "optimal_l1_at.fit(tfidf_sent_vectors_train, yTrain)\n",
    "Train_predict_tfidfw2v = optimal_l1_at.predict_proba(tfidf_sent_vectors_train)[:,1]\n",
    "predict_tfidfw2v_prob = optimal_l1_at.predict_proba(tfidf_sent_vectors_test)[:,1]\n",
    "predict_tfidfw2v_class = optimal_l1_at.predict(tfidf_sent_vectors_test)\n",
    "predict_testdata_at = optimal_l1_at.predict(tfidf_sent_vectors_train)"
   ]
  },
  {
   "cell_type": "code",
   "execution_count": 109,
   "metadata": {},
   "outputs": [
    {
     "data": {
      "image/png": "[encoded data removed]",
      "text/plain": [
       "<Figure size 432x288 with 1 Axes>"
      ]
     },
     "metadata": {
      "needs_background": "light"
     },
     "output_type": "display_data"
    }
   ],
   "source": [
    "Tr_FPR4, Tr_TPR4, tr4 = roc_curve(yTrain, Train_predict_tfidfw2v)\n",
    "Te_FPR4, Te_TPR4, te4 = roc_curve(yTest, predict_tfidfw2v_prob)\n",
    "\n",
    "plt.plot(Tr_FPR4, Tr_TPR4, label=\"Train AUC L1 = \"+str(auc(Tr_FPR4, Tr_TPR4)))\n",
    "plt.plot(Te_FPR4, Te_TPR4, label=\"Test AUC L1 = \"+str(auc(Te_FPR4, Te_TPR4)))\n",
    "plt.legend()\n",
    "plt.xlabel(\"FPR\")\n",
    "plt.ylabel(\"TPR\")\n",
    "plt.title(\"Comparision of ROC curves for TF-IDF Word2Vec using Logistic Regression L1\")\n",
    "plt.show()"
   ]
  },
  {
   "cell_type": "code",
   "execution_count": 110,
   "metadata": {},
   "outputs": [
    {
     "data": {
      "text/plain": [
       "Text(32.99999999999999, 0.5, 'Actual Values')"
      ]
     },
     "execution_count": 110,
     "metadata": {},
     "output_type": "execute_result"
    },
    {
     "data": {
      "image/png": "[encoded data removed]",
      "text/plain": [
       "<Figure size 432x288 with 2 Axes>"
      ]
     },
     "metadata": {
      "needs_background": "light"
     },
     "output_type": "display_data"
    }
   ],
   "source": [
    "# source for heat map: https://stackoverflow.com/a/37790707\n",
    "conf_matrix = confusion_matrix(yTrain, predict_testdata_at)\n",
    "class_label = [\"Negative (or) 0\" , \"Positive (or) 1\"]\n",
    "df_conf_matrix = pd.DataFrame(conf_matrix, index=class_label, columns=class_label)\n",
    "sns.heatmap(df_conf_matrix, annot=True, fmt='d', cmap=\"YlGnBu\")\n",
    "plt.title(\"Confusion Matrix for Logistic Regression - L1 Regularization using TFIDF W2V on TRAIN DATA\")\n",
    "plt.xlabel(\"Predicted Values\")\n",
    "plt.ylabel(\"Actual Values\")\n"
   ]
  },
  {
   "cell_type": "code",
   "execution_count": 112,
   "metadata": {},
   "outputs": [
    {
     "data": {
      "text/plain": [
       "Text(32.99999999999999, 0.5, 'Actual Values')"
      ]
     },
     "execution_count": 112,
     "metadata": {},
     "output_type": "execute_result"
    },
    {
     "data": {
      "image/png": "[encoded data removed]",
      "text/plain": [
       "<Figure size 432x288 with 2 Axes>"
      ]
     },
     "metadata": {
      "needs_background": "light"
     },
     "output_type": "display_data"
    }
   ],
   "source": [
    "# source for heat map: https://stackoverflow.com/a/37790707\n",
    "conf_matrix = confusion_matrix(yTest, predict_tfidfw2v_class)\n",
    "class_label = [\"Negative (or) 0\" , \"Positive (or) 1\"]\n",
    "df_conf_matrix = pd.DataFrame(conf_matrix, index=class_label, columns=class_label)\n",
    "sns.heatmap(df_conf_matrix, annot=True, fmt='d')\n",
    "plt.title(\"Confusion Matrix for Logistic Regression - L1 Regularization using TFIDF W2V on TEST DATA\")\n",
    "plt.xlabel(\"Predicted Values\")\n",
    "plt.ylabel(\"Actual Values\")"
   ]
  },
  {
   "cell_type": "markdown",
   "metadata": {},
   "source": [
    "### Applying Logistic Regression with L2 regularization on TFIDF W2V,<font color='red'> SET 4</font>"
   ]
  },
  {
   "cell_type": "code",
   "execution_count": 113,
   "metadata": {},
   "outputs": [
    {
     "name": "stderr",
     "output_type": "stream",
     "text": [
      "100%|████████████████████████████████████████████████████████████████████████████████████| 8/8 [00:09<00:00,  1.42s/it]\n"
     ]
    }
   ],
   "source": [
    "# Please write all the code with proper documentation\n",
    "from sklearn.linear_model import LogisticRegression\n",
    "from sklearn.model_selection import GridSearchCV, RandomizedSearchCV\n",
    "from sklearn.metrics import roc_auc_score\n",
    "\n",
    "c_values = [0.00001, 0.0001, 0.001, 0.01, 0.1, 1, 10, 100]\n",
    "AUC_tfidfw2v_Train = []\n",
    "AUC_tfidfw2v_CV = []\n",
    "\n",
    "#Logistic Regression Classifier with L1 regularization on c values\n",
    "for i in tqdm(c_values):\n",
    "    clf = LogisticRegression(C = i, penalty='l2', class_weight = 'balanced')\n",
    "    clf.fit(tfidf_sent_vectors_train, yTrain)\n",
    "\n",
    "    #Predicting probability of positive class\n",
    "    #here predict_proba outputs 2 values: 1st-probability of getting class 0, 2nd-probability of getting class 1\n",
    "    #we are slicing 2nd value    \n",
    "    Y_train_pred4 =  clf.predict_proba(tfidf_sent_vectors_train)[:,1]\n",
    "    Y_cv_pred4 =  clf.predict_proba(tfidf_sent_vectors_cv)[:,1]\n",
    "    \n",
    "    #Calculation of ROC-AUC score on both train and-cross validate data    \n",
    "    AUC_tfidfw2v_Train.append(roc_auc_score(yTrain,Y_train_pred4))\n",
    "    AUC_tfidfw2v_CV.append(roc_auc_score(yCV, Y_cv_pred4))"
   ]
  },
  {
   "cell_type": "code",
   "execution_count": 114,
   "metadata": {},
   "outputs": [
    {
     "data": {
      "image/png": "[encoded data removed]",
      "text/plain": [
       "<Figure size 432x288 with 1 Axes>"
      ]
     },
     "metadata": {
      "needs_background": "light"
     },
     "output_type": "display_data"
    }
   ],
   "source": [
    "plt.plot(c_values, AUC_tfidfw2v_Train, label='Train AUC L2')\n",
    "plt.plot(c_values, AUC_tfidfw2v_CV, label='CV AUC L2')\n",
    "\n",
    "plt.scatter(c_values, AUC_tfidfw2v_Train, label='Train AUC L2')\n",
    "plt.scatter(c_values, AUC_tfidfw2v_CV, label='CV AUC L2')\n",
    "plt.xscale('log')\n",
    "\n",
    "plt.legend()\n",
    "plt.xlabel(\"C - Values\")\n",
    "plt.ylabel(\"AUC\")\n",
    "plt.title(\"Error Plots on TF-IDF Word2Vec - using Logistic Regression L2\")\n",
    "plt.show()"
   ]
  },
  {
   "cell_type": "code",
   "execution_count": 115,
   "metadata": {},
   "outputs": [],
   "source": [
    "#Logistic Regression on test data with optimal c = 0.1\n",
    "optimal_l1_at = LogisticRegression(C = 0.1, penalty='l2', class_weight = 'balanced')\n",
    "optimal_l1_at.fit(tfidf_sent_vectors_train, yTrain)\n",
    "Train_predict_tfidfw2v = optimal_l1_at.predict_proba(tfidf_sent_vectors_train)[:,1]\n",
    "predict_tfidfw2v_prob = optimal_l1_at.predict_proba(tfidf_sent_vectors_test)[:,1]\n",
    "predict_tfidfw2v_class = optimal_l1_at.predict(tfidf_sent_vectors_test)\n",
    "predict_testdata_at2 = optimal_l1_at.predict(tfidf_sent_vectors_train)"
   ]
  },
  {
   "cell_type": "code",
   "execution_count": 116,
   "metadata": {},
   "outputs": [
    {
     "data": {
      "image/png": "[encoded data removed]",
      "text/plain": [
       "<Figure size 432x288 with 1 Axes>"
      ]
     },
     "metadata": {
      "needs_background": "light"
     },
     "output_type": "display_data"
    }
   ],
   "source": [
    "Tr_FPR4, Tr_TPR4, tr4 = roc_curve(yTrain, Train_predict_tfidfw2v)\n",
    "Te_FPR4, Te_TPR4, te4 = roc_curve(yTest, predict_tfidfw2v_prob)\n",
    "\n",
    "plt.plot(Tr_FPR4, Tr_TPR4, label=\"Train AUC L2 = \"+str(auc(Tr_FPR4, Tr_TPR4)))\n",
    "plt.plot(Te_FPR4, Te_TPR4, label=\"Test AUC L2 = \"+str(auc(Te_FPR4, Te_TPR4)))\n",
    "plt.legend()\n",
    "plt.xlabel(\"FPR\")\n",
    "plt.ylabel(\"TPR\")\n",
    "plt.title(\"Comparision of ROC curves for TF-IDF Word2Vec using Logistic Regression L2\")\n",
    "plt.show()"
   ]
  },
  {
   "cell_type": "code",
   "execution_count": 117,
   "metadata": {},
   "outputs": [
    {
     "data": {
      "text/plain": [
       "Text(32.99999999999999, 0.5, 'Actual Values')"
      ]
     },
     "execution_count": 117,
     "metadata": {},
     "output_type": "execute_result"
    },
    {
     "data": {
      "image/png": "[encoded data removed]",
      "text/plain": [
       "<Figure size 432x288 with 2 Axes>"
      ]
     },
     "metadata": {
      "needs_background": "light"
     },
     "output_type": "display_data"
    }
   ],
   "source": [
    "# source for heat map: https://stackoverflow.com/a/37790707\n",
    "conf_matrix = confusion_matrix(yTrain, predict_testdata_at2)\n",
    "class_label = [\"Negative (or) 0\" , \"Positive (or) 1\"]\n",
    "df_conf_matrix = pd.DataFrame(conf_matrix, index=class_label, columns=class_label)\n",
    "sns.heatmap(df_conf_matrix, annot=True, fmt='d', cmap=\"YlGnBu\")\n",
    "plt.title(\"Confusion Matrix for Logistic Regression - L2 Regularization using TFIDF W2V on TRAIN DATA\")\n",
    "plt.xlabel(\"Predicted Values\")\n",
    "plt.ylabel(\"Actual Values\")"
   ]
  },
  {
   "cell_type": "code",
   "execution_count": 118,
   "metadata": {},
   "outputs": [
    {
     "data": {
      "text/plain": [
       "Text(32.99999999999999, 0.5, 'Actual Values')"
      ]
     },
     "execution_count": 118,
     "metadata": {},
     "output_type": "execute_result"
    },
    {
     "data": {
      "image/png": "[encoded data removed]",
      "text/plain": [
       "<Figure size 432x288 with 2 Axes>"
      ]
     },
     "metadata": {
      "needs_background": "light"
     },
     "output_type": "display_data"
    }
   ],
   "source": [
    "# source for heat map: https://stackoverflow.com/a/37790707\n",
    "conf_matrix = confusion_matrix(yTest, predict_tfidfw2v_class)\n",
    "class_label = [\"Negative (or) 0\" , \"Positive (or) 1\"]\n",
    "df_conf_matrix = pd.DataFrame(conf_matrix, index=class_label, columns=class_label)\n",
    "sns.heatmap(df_conf_matrix, annot=True, fmt='d')\n",
    "plt.title(\"Confusion Matrix for Logistic Regression - L2 Regularization using TFIDF W2V on TEST DATA\")\n",
    "plt.xlabel(\"Predicted Values\")\n",
    "plt.ylabel(\"Actual Values\")"
   ]
  },
  {
   "cell_type": "markdown",
   "metadata": {},
   "source": [
    "# Conclusion"
   ]
  },
  {
   "cell_type": "code",
   "execution_count": 118,
   "metadata": {},
   "outputs": [
    {
     "name": "stdout",
     "output_type": "stream",
     "text": [
      "+--------------+----------------+-----------+----------+\n",
      "|  Vectorizer  | Regularization | Optimal C | Test AUC |\n",
      "+--------------+----------------+-----------+----------+\n",
      "| Bag of Words |       L1       |     10    |   0.91   |\n",
      "| Bag of Words |       L2       |    0.1    |   0.94   |\n",
      "|    TF-IDF    |       L1       |     10    |   0.95   |\n",
      "|    TF-IDF    |       L2       |     10    |   0.96   |\n",
      "|   Avg W2V    |       L1       |    0.1    |   0.91   |\n",
      "|   Avg W2V    |       L2       |     1     |   0.91   |\n",
      "|  TF-IDF W2V  |       L1       |    0.1    |   0.89   |\n",
      "|  TF-IDF W2V  |       L2       |    0.1    |   0.89   |\n",
      "+--------------+----------------+-----------+----------+\n"
     ]
    }
   ],
   "source": [
    "from prettytable import PrettyTable    \n",
    "x = PrettyTable()\n",
    "\n",
    "x.field_names = [\"Vectorizer\", \"Regularization\", \"Optimal C\", \"Test AUC\"]\n",
    "\n",
    "x.add_row([\"Bag of Words\", \"L1\", 10, 0.91])\n",
    "x.add_row([\"Bag of Words\", \"L2\", 0.1, 0.94])\n",
    "x.add_row([\"TF-IDF\", \"L1\", 10, 0.95])\n",
    "x.add_row([\"TF-IDF\", \"L2\", 10, 0.96])\n",
    "x.add_row([\"Avg W2V\", \"L1\", 0.1, 0.91])\n",
    "x.add_row([\"Avg W2V\", \"L2\", 1, 0.91])\n",
    "x.add_row([\"TF-IDF W2V\", \"L1\", 0.1, 0.89])\n",
    "x.add_row([\"TF-IDF W2V\", \"L2\", 0.1, 0.89])\n",
    "\n",
    "print(x)"
   ]
  },
  {
   "cell_type": "code",
   "execution_count": null,
   "metadata": {},
   "outputs": [],
   "source": []
  }
 ],
 "metadata": {
  "colab": {
   "name": "03 Amazon Fine Food Reviews Analysis_KNN.ipynb",
   "provenance": [],
   "version": "0.3.2"
  },
  "kernelspec": {
   "display_name": "Python 3",
   "language": "python",
   "name": "python3"
  },
  "language_info": {
   "codemirror_mode": {
    "name": "ipython",
    "version": 3
   },
   "file_extension": ".py",
   "mimetype": "text/x-python",
   "name": "python",
   "nbconvert_exporter": "python",
   "pygments_lexer": "ipython3",
   "version": "3.6.8"
  }
 },
 "nbformat": 4,
 "nbformat_minor": 1
}
